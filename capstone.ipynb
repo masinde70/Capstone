{
 "cells": [
  {
   "cell_type": "markdown",
   "id": "87e67d3c-a28a-49a5-83eb-1e07aa8dd083",
   "metadata": {},
   "source": [
    "## About Dataset\n",
    "### Context\n",
    "This dataset is originally from the National Institute of Diabetes and Digestive and Kidney Diseases. The objective of the dataset is to diagnostically predict whether or not a patient has diabetes, based on certain diagnostic measurements included in the dataset. Several constraints were placed on the selection of these instances from a larger database. In particular, all patients here are females at least 21 years old of Pima Indian heritage.\n",
    "\n",
    "## Content\n",
    "The datasets consists of several medical predictor variables and one target variable, Outcome. Predictor variables includes the number of pregnancies the patient has had, their BMI, insulin level, age, and so on.\n",
    "\n",
    "\n",
    "## Acknowledgements\n",
    "Smith, J.W., Everhart, J.E., Dickson, W.C., Knowler, W.C., & Johannes, R.S. (1988). Using the ADAP learning algorithm to forecast the onset of diabetes mellitus. In Proceedings of the Symposium on Computer Applications and Medical Care (pp. 261--265). IEEE Computer Society Press.\n",
    "\n"
   ]
  },
  {
   "cell_type": "code",
   "execution_count": 66,
   "id": "4bee277d-2091-468e-a8cf-ae8f4dcd7ef1",
   "metadata": {
    "tags": []
   },
   "outputs": [],
   "source": [
    "#!pip install -U pip\n",
    "#!pip install -U setuptools wheel\n",
    "#!pip install -U \"mxnet<2.0.0\" bokeh==2.0.1\n",
    "#!pip install autogluon --no-cache-dir\n",
    "#!pip install missingno\n",
    "#!pip install smdebug"
   ]
  },
  {
   "cell_type": "code",
   "execution_count": 3,
   "id": "7b0fe11c-41b4-447c-9b0c-a9fd7f67c581",
   "metadata": {
    "tags": []
   },
   "outputs": [
    {
     "name": "stderr",
     "output_type": "stream",
     "text": [
      "/usr/local/lib/python3.8/dist-packages/tqdm/auto.py:21: TqdmWarning: IProgress not found. Please update jupyter and ipywidgets. See https://ipywidgets.readthedocs.io/en/stable/user_install.html\n",
      "  from .autonotebook import tqdm as notebook_tqdm\n"
     ]
    }
   ],
   "source": [
    "import os\n",
    "import sys\n",
    "import boto3\n",
    "import sagemaker\n",
    "from time import sleep\n",
    "from collections import Counter\n",
    "import numpy as np\n",
    "import pandas as pd\n",
    "from autogluon.tabular import TabularPredictor  \n",
    "from sagemaker import get_execution_role, local, Model, utils, s3\n",
    "from sagemaker.estimator import Estimator\n",
    "from sagemaker.predictor import Predictor\n",
    "from sagemaker.serializers import CSVSerializer\n",
    "from sagemaker.deserializers import StringDeserializer\n",
    "from sklearn.metrics import accuracy_score, classification_report\n",
    "from IPython.core.display import display, HTML\n",
    "from IPython.core.interactiveshell import InteractiveShell\n",
    "import matplotlib.pyplot as plt\n",
    "import seaborn as sns\n",
    "sns.set()\n",
    "import warnings\n",
    "warnings.filterwarnings('ignore')\n",
    "import missingno as msno\n",
    "%matplotlib inline\n",
    "session = sagemaker.Session()\n",
    "bucket = session.default_bucket()\n",
    "prefix = \"sagemaker/autogluon-tabular\"\n",
    "region = session.boto_region_name\n",
    "role = get_execution_role()\n",
    "client = session.boto_session.client(\"sts\", region_name=region, endpoint_url=utils.sts_regional_endpoint(region))"
   ]
  },
  {
   "cell_type": "markdown",
   "id": "da90b5a6-452e-463c-90da-ff68e833a9b2",
   "metadata": {},
   "source": [
    "##  Data Preparation"
   ]
  },
  {
   "cell_type": "code",
   "execution_count": 4,
   "id": "21bc2643-6e0a-4d1f-a430-1b2ff62a91ec",
   "metadata": {
    "tags": []
   },
   "outputs": [],
   "source": [
    "df = pd.read_csv('diabetes.csv')"
   ]
  },
  {
   "cell_type": "code",
   "execution_count": 5,
   "id": "e68473aa-1031-4fe9-a900-f3aa914df2fb",
   "metadata": {
    "tags": []
   },
   "outputs": [
    {
     "data": {
      "text/html": [
       "<div>\n",
       "<style scoped>\n",
       "    .dataframe tbody tr th:only-of-type {\n",
       "        vertical-align: middle;\n",
       "    }\n",
       "\n",
       "    .dataframe tbody tr th {\n",
       "        vertical-align: top;\n",
       "    }\n",
       "\n",
       "    .dataframe thead th {\n",
       "        text-align: right;\n",
       "    }\n",
       "</style>\n",
       "<table border=\"1\" class=\"dataframe\">\n",
       "  <thead>\n",
       "    <tr style=\"text-align: right;\">\n",
       "      <th></th>\n",
       "      <th>Pregnancies</th>\n",
       "      <th>Glucose</th>\n",
       "      <th>BloodPressure</th>\n",
       "      <th>SkinThickness</th>\n",
       "      <th>Insulin</th>\n",
       "      <th>BMI</th>\n",
       "      <th>DiabetesPedigreeFunction</th>\n",
       "      <th>Age</th>\n",
       "      <th>Outcome</th>\n",
       "    </tr>\n",
       "  </thead>\n",
       "  <tbody>\n",
       "    <tr>\n",
       "      <th>0</th>\n",
       "      <td>6</td>\n",
       "      <td>148</td>\n",
       "      <td>72</td>\n",
       "      <td>35</td>\n",
       "      <td>0</td>\n",
       "      <td>33.6</td>\n",
       "      <td>0.627</td>\n",
       "      <td>50</td>\n",
       "      <td>1</td>\n",
       "    </tr>\n",
       "    <tr>\n",
       "      <th>1</th>\n",
       "      <td>1</td>\n",
       "      <td>85</td>\n",
       "      <td>66</td>\n",
       "      <td>29</td>\n",
       "      <td>0</td>\n",
       "      <td>26.6</td>\n",
       "      <td>0.351</td>\n",
       "      <td>31</td>\n",
       "      <td>0</td>\n",
       "    </tr>\n",
       "    <tr>\n",
       "      <th>2</th>\n",
       "      <td>8</td>\n",
       "      <td>183</td>\n",
       "      <td>64</td>\n",
       "      <td>0</td>\n",
       "      <td>0</td>\n",
       "      <td>23.3</td>\n",
       "      <td>0.672</td>\n",
       "      <td>32</td>\n",
       "      <td>1</td>\n",
       "    </tr>\n",
       "    <tr>\n",
       "      <th>3</th>\n",
       "      <td>1</td>\n",
       "      <td>89</td>\n",
       "      <td>66</td>\n",
       "      <td>23</td>\n",
       "      <td>94</td>\n",
       "      <td>28.1</td>\n",
       "      <td>0.167</td>\n",
       "      <td>21</td>\n",
       "      <td>0</td>\n",
       "    </tr>\n",
       "    <tr>\n",
       "      <th>4</th>\n",
       "      <td>0</td>\n",
       "      <td>137</td>\n",
       "      <td>40</td>\n",
       "      <td>35</td>\n",
       "      <td>168</td>\n",
       "      <td>43.1</td>\n",
       "      <td>2.288</td>\n",
       "      <td>33</td>\n",
       "      <td>1</td>\n",
       "    </tr>\n",
       "  </tbody>\n",
       "</table>\n",
       "</div>"
      ],
      "text/plain": [
       "   Pregnancies  Glucose  BloodPressure  SkinThickness  Insulin   BMI  \\\n",
       "0            6      148             72             35        0  33.6   \n",
       "1            1       85             66             29        0  26.6   \n",
       "2            8      183             64              0        0  23.3   \n",
       "3            1       89             66             23       94  28.1   \n",
       "4            0      137             40             35      168  43.1   \n",
       "\n",
       "   DiabetesPedigreeFunction  Age  Outcome  \n",
       "0                     0.627   50        1  \n",
       "1                     0.351   31        0  \n",
       "2                     0.672   32        1  \n",
       "3                     0.167   21        0  \n",
       "4                     2.288   33        1  "
      ]
     },
     "execution_count": 5,
     "metadata": {},
     "output_type": "execute_result"
    }
   ],
   "source": [
    "df.head()"
   ]
  },
  {
   "cell_type": "markdown",
   "id": "0f4aa0b6-f2a5-4a5c-9a30-af36fbf54146",
   "metadata": {
    "tags": []
   },
   "source": [
    "## Get column names"
   ]
  },
  {
   "cell_type": "code",
   "execution_count": 6,
   "id": "bdee1740-104a-4895-878d-9161d280a94c",
   "metadata": {
    "tags": []
   },
   "outputs": [
    {
     "data": {
      "text/plain": [
       "Index(['Pregnancies', 'Glucose', 'BloodPressure', 'SkinThickness', 'Insulin',\n",
       "       'BMI', 'DiabetesPedigreeFunction', 'Age', 'Outcome'],\n",
       "      dtype='object')"
      ]
     },
     "execution_count": 6,
     "metadata": {},
     "output_type": "execute_result"
    }
   ],
   "source": [
    "df.columns"
   ]
  },
  {
   "cell_type": "markdown",
   "id": "28914597-24d5-400f-a39b-bd3cf1e64b95",
   "metadata": {},
   "source": [
    "## EDA"
   ]
  },
  {
   "cell_type": "code",
   "execution_count": 7,
   "id": "07a8e107-388d-4d04-8bc6-71b67274a9b3",
   "metadata": {
    "tags": []
   },
   "outputs": [
    {
     "data": {
      "text/plain": [
       "(768, 9)"
      ]
     },
     "execution_count": 7,
     "metadata": {},
     "output_type": "execute_result"
    }
   ],
   "source": [
    "df.shape"
   ]
  },
  {
   "cell_type": "code",
   "execution_count": 8,
   "id": "0079ddd5-6194-4bb9-9c94-3e8dc1e42b24",
   "metadata": {
    "tags": []
   },
   "outputs": [
    {
     "name": "stdout",
     "output_type": "stream",
     "text": [
      "<class 'pandas.core.frame.DataFrame'>\n",
      "RangeIndex: 768 entries, 0 to 767\n",
      "Data columns (total 9 columns):\n",
      " #   Column                    Non-Null Count  Dtype  \n",
      "---  ------                    --------------  -----  \n",
      " 0   Pregnancies               768 non-null    int64  \n",
      " 1   Glucose                   768 non-null    int64  \n",
      " 2   BloodPressure             768 non-null    int64  \n",
      " 3   SkinThickness             768 non-null    int64  \n",
      " 4   Insulin                   768 non-null    int64  \n",
      " 5   BMI                       768 non-null    float64\n",
      " 6   DiabetesPedigreeFunction  768 non-null    float64\n",
      " 7   Age                       768 non-null    int64  \n",
      " 8   Outcome                   768 non-null    int64  \n",
      "dtypes: float64(2), int64(7)\n",
      "memory usage: 54.1 KB\n"
     ]
    }
   ],
   "source": [
    "df.info(verbose=True)"
   ]
  },
  {
   "cell_type": "code",
   "execution_count": 9,
   "id": "4a8396ba-17c7-42c7-9357-34c7664ab982",
   "metadata": {},
   "outputs": [
    {
     "data": {
      "text/html": [
       "<div>\n",
       "<style scoped>\n",
       "    .dataframe tbody tr th:only-of-type {\n",
       "        vertical-align: middle;\n",
       "    }\n",
       "\n",
       "    .dataframe tbody tr th {\n",
       "        vertical-align: top;\n",
       "    }\n",
       "\n",
       "    .dataframe thead th {\n",
       "        text-align: right;\n",
       "    }\n",
       "</style>\n",
       "<table border=\"1\" class=\"dataframe\">\n",
       "  <thead>\n",
       "    <tr style=\"text-align: right;\">\n",
       "      <th></th>\n",
       "      <th>count</th>\n",
       "      <th>mean</th>\n",
       "      <th>std</th>\n",
       "      <th>min</th>\n",
       "      <th>25%</th>\n",
       "      <th>50%</th>\n",
       "      <th>75%</th>\n",
       "      <th>max</th>\n",
       "    </tr>\n",
       "  </thead>\n",
       "  <tbody>\n",
       "    <tr>\n",
       "      <th>Pregnancies</th>\n",
       "      <td>768.0</td>\n",
       "      <td>3.845052</td>\n",
       "      <td>3.369578</td>\n",
       "      <td>0.000</td>\n",
       "      <td>1.00000</td>\n",
       "      <td>3.0000</td>\n",
       "      <td>6.00000</td>\n",
       "      <td>17.00</td>\n",
       "    </tr>\n",
       "    <tr>\n",
       "      <th>Glucose</th>\n",
       "      <td>768.0</td>\n",
       "      <td>120.894531</td>\n",
       "      <td>31.972618</td>\n",
       "      <td>0.000</td>\n",
       "      <td>99.00000</td>\n",
       "      <td>117.0000</td>\n",
       "      <td>140.25000</td>\n",
       "      <td>199.00</td>\n",
       "    </tr>\n",
       "    <tr>\n",
       "      <th>BloodPressure</th>\n",
       "      <td>768.0</td>\n",
       "      <td>69.105469</td>\n",
       "      <td>19.355807</td>\n",
       "      <td>0.000</td>\n",
       "      <td>62.00000</td>\n",
       "      <td>72.0000</td>\n",
       "      <td>80.00000</td>\n",
       "      <td>122.00</td>\n",
       "    </tr>\n",
       "    <tr>\n",
       "      <th>SkinThickness</th>\n",
       "      <td>768.0</td>\n",
       "      <td>20.536458</td>\n",
       "      <td>15.952218</td>\n",
       "      <td>0.000</td>\n",
       "      <td>0.00000</td>\n",
       "      <td>23.0000</td>\n",
       "      <td>32.00000</td>\n",
       "      <td>99.00</td>\n",
       "    </tr>\n",
       "    <tr>\n",
       "      <th>Insulin</th>\n",
       "      <td>768.0</td>\n",
       "      <td>79.799479</td>\n",
       "      <td>115.244002</td>\n",
       "      <td>0.000</td>\n",
       "      <td>0.00000</td>\n",
       "      <td>30.5000</td>\n",
       "      <td>127.25000</td>\n",
       "      <td>846.00</td>\n",
       "    </tr>\n",
       "    <tr>\n",
       "      <th>BMI</th>\n",
       "      <td>768.0</td>\n",
       "      <td>31.992578</td>\n",
       "      <td>7.884160</td>\n",
       "      <td>0.000</td>\n",
       "      <td>27.30000</td>\n",
       "      <td>32.0000</td>\n",
       "      <td>36.60000</td>\n",
       "      <td>67.10</td>\n",
       "    </tr>\n",
       "    <tr>\n",
       "      <th>DiabetesPedigreeFunction</th>\n",
       "      <td>768.0</td>\n",
       "      <td>0.471876</td>\n",
       "      <td>0.331329</td>\n",
       "      <td>0.078</td>\n",
       "      <td>0.24375</td>\n",
       "      <td>0.3725</td>\n",
       "      <td>0.62625</td>\n",
       "      <td>2.42</td>\n",
       "    </tr>\n",
       "    <tr>\n",
       "      <th>Age</th>\n",
       "      <td>768.0</td>\n",
       "      <td>33.240885</td>\n",
       "      <td>11.760232</td>\n",
       "      <td>21.000</td>\n",
       "      <td>24.00000</td>\n",
       "      <td>29.0000</td>\n",
       "      <td>41.00000</td>\n",
       "      <td>81.00</td>\n",
       "    </tr>\n",
       "    <tr>\n",
       "      <th>Outcome</th>\n",
       "      <td>768.0</td>\n",
       "      <td>0.348958</td>\n",
       "      <td>0.476951</td>\n",
       "      <td>0.000</td>\n",
       "      <td>0.00000</td>\n",
       "      <td>0.0000</td>\n",
       "      <td>1.00000</td>\n",
       "      <td>1.00</td>\n",
       "    </tr>\n",
       "  </tbody>\n",
       "</table>\n",
       "</div>"
      ],
      "text/plain": [
       "                          count        mean         std     min       25%  \\\n",
       "Pregnancies               768.0    3.845052    3.369578   0.000   1.00000   \n",
       "Glucose                   768.0  120.894531   31.972618   0.000  99.00000   \n",
       "BloodPressure             768.0   69.105469   19.355807   0.000  62.00000   \n",
       "SkinThickness             768.0   20.536458   15.952218   0.000   0.00000   \n",
       "Insulin                   768.0   79.799479  115.244002   0.000   0.00000   \n",
       "BMI                       768.0   31.992578    7.884160   0.000  27.30000   \n",
       "DiabetesPedigreeFunction  768.0    0.471876    0.331329   0.078   0.24375   \n",
       "Age                       768.0   33.240885   11.760232  21.000  24.00000   \n",
       "Outcome                   768.0    0.348958    0.476951   0.000   0.00000   \n",
       "\n",
       "                               50%        75%     max  \n",
       "Pregnancies                 3.0000    6.00000   17.00  \n",
       "Glucose                   117.0000  140.25000  199.00  \n",
       "BloodPressure              72.0000   80.00000  122.00  \n",
       "SkinThickness              23.0000   32.00000   99.00  \n",
       "Insulin                    30.5000  127.25000  846.00  \n",
       "BMI                        32.0000   36.60000   67.10  \n",
       "DiabetesPedigreeFunction    0.3725    0.62625    2.42  \n",
       "Age                        29.0000   41.00000   81.00  \n",
       "Outcome                     0.0000    1.00000    1.00  "
      ]
     },
     "execution_count": 9,
     "metadata": {},
     "output_type": "execute_result"
    }
   ],
   "source": [
    "df.describe().T"
   ]
  },
  {
   "cell_type": "markdown",
   "id": "b11ba710-d21a-49ff-aaa7-824cb4e593da",
   "metadata": {},
   "source": [
    "### The results of this summary of describe function.\n",
    "There are some value of below listed columns have zero minimum, the value of zero does indicates missing value.\n",
    "\n",
    "Following columns or variables have an invalid zero value:\n",
    "\n",
    " - Glucose\n",
    " - BloodPressure\n",
    " - SkinThickness\n",
    " - Insulin\n",
    " - BMI"
   ]
  },
  {
   "cell_type": "markdown",
   "id": "478153e4-3f31-4135-9137-103ad9e231cb",
   "metadata": {},
   "source": [
    "These missing values can be replaced by nan this will help in counting."
   ]
  },
  {
   "cell_type": "markdown",
   "id": "7b840bd6-c2a1-471f-84b1-88742dc1d71e",
   "metadata": {},
   "source": [
    "## Ploting Data Distribution"
   ]
  },
  {
   "cell_type": "code",
   "execution_count": 10,
   "id": "a34c9233-d8ea-4e9b-836e-b41c477a14cf",
   "metadata": {
    "tags": []
   },
   "outputs": [
    {
     "data": {
      "image/png": "[encoded data removed]",
      "text/plain": [
       "<Figure size 1440x1440 with 9 Axes>"
      ]
     },
     "metadata": {
      "needs_background": "light"
     },
     "output_type": "display_data"
    }
   ],
   "source": [
    "plot= df.hist(figsize = (20,20))\n",
    "plt.savefig('unclean.jpg')"
   ]
  },
  {
   "cell_type": "code",
   "execution_count": 11,
   "id": "b5f4f0dc-94d1-41c2-b217-ccd0911551fc",
   "metadata": {
    "tags": []
   },
   "outputs": [
    {
     "name": "stdout",
     "output_type": "stream",
     "text": [
      "Pregnancies                   0\n",
      "Glucose                       5\n",
      "BloodPressure                35\n",
      "SkinThickness               227\n",
      "Insulin                     374\n",
      "BMI                          11\n",
      "DiabetesPedigreeFunction      0\n",
      "Age                           0\n",
      "Outcome                       0\n",
      "dtype: int64\n"
     ]
    }
   ],
   "source": [
    "df_copy = df.copy(deep = True)\n",
    "df_copy[['Glucose','BloodPressure','SkinThickness','Insulin','BMI']] = df_copy[['Glucose','BloodPressure','SkinThickness','Insulin','BMI']].replace(0,np.NaN)\n",
    "print(df_copy.isnull().sum())"
   ]
  },
  {
   "cell_type": "markdown",
   "id": "9253d64c-406a-4bc0-ba87-7fb2dcc1e9ba",
   "metadata": {
    "tags": []
   },
   "source": [
    "## Replacing nan values for the columns in accordance with their distribution\n"
   ]
  },
  {
   "cell_type": "code",
   "execution_count": 12,
   "id": "0eec52f4-78ab-4a4c-ab16-78ca733361de",
   "metadata": {
    "tags": []
   },
   "outputs": [],
   "source": [
    "df_copy['Glucose'].fillna(df_copy['Glucose'].mean(), inplace = True)\n",
    "df_copy['BloodPressure'].fillna(df_copy['BloodPressure'].mean(), inplace = True)\n",
    "df_copy['SkinThickness'].fillna(df_copy['SkinThickness'].median(), inplace = True)\n",
    "df_copy['Insulin'].fillna(df_copy['Insulin'].median(), inplace = True)\n",
    "df_copy['BMI'].fillna(df_copy['BMI'].median(), inplace = True)\n",
    "\n"
   ]
  },
  {
   "cell_type": "code",
   "execution_count": 13,
   "id": "e3e669d4-e222-4600-8735-0727fc6794c0",
   "metadata": {
    "tags": []
   },
   "outputs": [
    {
     "data": {
      "image/png": "[encoded data removed]",
      "text/plain": [
       "<Figure size 1440x1440 with 9 Axes>"
      ]
     },
     "metadata": {
      "needs_background": "light"
     },
     "output_type": "display_data"
    }
   ],
   "source": [
    "_=df_copy.hist(figsize =(20,20))\n",
    "plt.savefig('clean.jpg')"
   ]
  },
  {
   "cell_type": "markdown",
   "id": "6416a3d5-11ff-4d1d-bf3e-1b16e947c59c",
   "metadata": {
    "tags": []
   },
   "source": [
    "## null count analysis\n",
    "\n"
   ]
  },
  {
   "cell_type": "code",
   "execution_count": 14,
   "id": "9b61590b-3e2c-4484-84f0-700863e8dcd4",
   "metadata": {
    "tags": []
   },
   "outputs": [
    {
     "data": {
      "image/png": "[encoded data removed]",
      "text/plain": [
       "<Figure size 1800x720 with 3 Axes>"
      ]
     },
     "metadata": {
      "needs_background": "light"
     },
     "output_type": "display_data"
    }
   ],
   "source": [
    "p=msno.bar(df)"
   ]
  },
  {
   "cell_type": "code",
   "execution_count": 15,
   "id": "30229e01-c891-4b23-af1c-6a6bed12a9e4",
   "metadata": {},
   "outputs": [
    {
     "data": {
      "image/png": "[encoded data removed]",
      "text/plain": [
       "<Figure size 1080x1080 with 2 Axes>"
      ]
     },
     "metadata": {
      "needs_background": "light"
     },
     "output_type": "display_data"
    }
   ],
   "source": [
    "# Correlation visualisation\n",
    "# Heatmap is good method to visualize correlation between features.\n",
    "cols = ['Pregnancies', 'Glucose', 'BloodPressure', 'SkinThickness','Insulin', 'BMI', 'DiabetesPedigreeFunction', 'Age']\n",
    "f,ax = plt.subplots(figsize=(15,15))\n",
    "matrix = np.triu(df[cols].corr())\n",
    "sns.heatmap(df[cols].corr(), annot=True, linewidths=0.5, fmt='.1f',mask=matrix, ax=ax,cmap='cubehelix_r')\n",
    "plt.savefig('Corr.jpg')"
   ]
  },
  {
   "cell_type": "code",
   "execution_count": 16,
   "id": "19cf861e-ca5f-450a-8d6e-da8bb30c0937",
   "metadata": {
    "tags": []
   },
   "outputs": [
    {
     "data": {
      "image/png": "[encoded data removed]",
      "text/plain": [
       "<Figure size 864x720 with 2 Axes>"
      ]
     },
     "metadata": {
      "needs_background": "light"
     },
     "output_type": "display_data"
    }
   ],
   "source": [
    "plt.figure(figsize=(12,10)) \n",
    "p=sns.heatmap(df.corr(), annot=True,cmap ='RdYlGn')"
   ]
  },
  {
   "cell_type": "code",
   "execution_count": 17,
   "id": "22959a88-5f91-48ac-b153-f3bb47bddb30",
   "metadata": {
    "tags": []
   },
   "outputs": [
    {
     "data": {
      "text/plain": [
       "Pregnancies                   4.865672\n",
       "Glucose                     141.257463\n",
       "BloodPressure                70.824627\n",
       "SkinThickness                22.164179\n",
       "Insulin                     100.335821\n",
       "BMI                          35.142537\n",
       "DiabetesPedigreeFunction      0.550500\n",
       "Age                          37.067164\n",
       "Outcome                       1.000000\n",
       "dtype: float64"
      ]
     },
     "execution_count": 17,
     "metadata": {},
     "output_type": "execute_result"
    }
   ],
   "source": [
    "truediabetes= df.loc[df['Outcome']==1]\n",
    "truediabetes.mean()\n"
   ]
  },
  {
   "cell_type": "code",
   "execution_count": 18,
   "id": "990ab3f4-1c67-438b-b2c3-c2dc7ba03679",
   "metadata": {
    "tags": []
   },
   "outputs": [
    {
     "data": {
      "text/plain": [
       "Pregnancies                   3.298000\n",
       "Glucose                     109.980000\n",
       "BloodPressure                68.184000\n",
       "SkinThickness                19.664000\n",
       "Insulin                      68.792000\n",
       "BMI                          30.304200\n",
       "DiabetesPedigreeFunction      0.429734\n",
       "Age                          31.190000\n",
       "Outcome                       0.000000\n",
       "dtype: float64"
      ]
     },
     "execution_count": 18,
     "metadata": {},
     "output_type": "execute_result"
    }
   ],
   "source": [
    "falsediabetes= df.loc[df['Outcome']==0]\n",
    "falsediabetes.mean()\n"
   ]
  },
  {
   "cell_type": "code",
   "execution_count": 19,
   "id": "92499912-552c-42f9-a592-d51d9b541dae",
   "metadata": {
    "tags": []
   },
   "outputs": [
    {
     "data": {
      "image/png": "[encoded data removed]",
      "text/plain": [
       "<Figure size 432x288 with 1 Axes>"
      ]
     },
     "metadata": {
      "needs_background": "light"
     },
     "output_type": "display_data"
    }
   ],
   "source": [
    "F = df.loc[df['Outcome'] == 0, 'Glucose'].hist()\n"
   ]
  },
  {
   "cell_type": "code",
   "execution_count": 20,
   "id": "24004247-f652-47ab-bbf9-f235beaa810c",
   "metadata": {
    "tags": []
   },
   "outputs": [
    {
     "data": {
      "image/png": "[encoded data removed]",
      "text/plain": [
       "<Figure size 432x288 with 1 Axes>"
      ]
     },
     "metadata": {
      "needs_background": "light"
     },
     "output_type": "display_data"
    }
   ],
   "source": [
    "T= df.loc[df['Outcome']==1, 'Glucose'].hist()\n"
   ]
  },
  {
   "cell_type": "code",
   "execution_count": 21,
   "id": "ec09ae38-4692-431d-b2e4-6d9fd3e7ad63",
   "metadata": {
    "tags": []
   },
   "outputs": [
    {
     "data": {
      "image/png": "[encoded data removed]",
      "text/plain": [
       "<Figure size 432x288 with 1 Axes>"
      ]
     },
     "metadata": {
      "needs_background": "light"
     },
     "output_type": "display_data"
    }
   ],
   "source": [
    "FI = df.loc[df['Outcome']==0, 'Insulin'].hist()\n"
   ]
  },
  {
   "cell_type": "code",
   "execution_count": 22,
   "id": "753fa5d8-d871-411f-b45e-d26124cc0fd9",
   "metadata": {
    "tags": []
   },
   "outputs": [
    {
     "data": {
      "image/png": "[encoded data removed]",
      "text/plain": [
       "<Figure size 432x288 with 1 Axes>"
      ]
     },
     "metadata": {
      "needs_background": "light"
     },
     "output_type": "display_data"
    }
   ],
   "source": [
    "TI = df.loc[df['Outcome']==1, 'Insulin'].hist()\n"
   ]
  },
  {
   "cell_type": "code",
   "execution_count": 23,
   "id": "d610e500-7b8f-47bc-b32f-29147170d3b1",
   "metadata": {
    "tags": []
   },
   "outputs": [
    {
     "data": {
      "image/png": "[encoded data removed]",
      "text/plain": [
       "<Figure size 432x288 with 1 Axes>"
      ]
     },
     "metadata": {
      "needs_background": "light"
     },
     "output_type": "display_data"
    }
   ],
   "source": [
    "TB = df.loc[df['Outcome']==1, 'BMI'].hist()\n"
   ]
  },
  {
   "cell_type": "code",
   "execution_count": 24,
   "id": "af0373c8-e1ed-4a44-97f6-9a60976ade89",
   "metadata": {},
   "outputs": [
    {
     "data": {
      "image/png": "[encoded data removed]",
      "text/plain": [
       "<Figure size 432x288 with 1 Axes>"
      ]
     },
     "metadata": {
      "needs_background": "light"
     },
     "output_type": "display_data"
    }
   ],
   "source": [
    "FB = df.loc[df['Outcome']==0, 'BMI'].hist()\n"
   ]
  },
  {
   "cell_type": "code",
   "execution_count": 25,
   "id": "6ab6e048-4776-433d-8dd6-8adbb48c379c",
   "metadata": {
    "tags": []
   },
   "outputs": [
    {
     "data": {
      "image/png": "[encoded data removed]",
      "text/plain": [
       "<Figure size 432x288 with 1 Axes>"
      ]
     },
     "metadata": {
      "needs_background": "light"
     },
     "output_type": "display_data"
    }
   ],
   "source": [
    "TA = df.loc[df['Outcome']==1, 'Age'].hist()\n"
   ]
  },
  {
   "cell_type": "code",
   "execution_count": 26,
   "id": "b97ce5bb-0e8a-4a7f-8817-ac2918efa72b",
   "metadata": {
    "tags": []
   },
   "outputs": [
    {
     "data": {
      "image/png": "[encoded data removed]",
      "text/plain": [
       "<Figure size 432x288 with 1 Axes>"
      ]
     },
     "metadata": {
      "needs_background": "light"
     },
     "output_type": "display_data"
    }
   ],
   "source": [
    "FA = df.loc[df['Outcome']==0, 'Age'].hist()"
   ]
  },
  {
   "cell_type": "code",
   "execution_count": 27,
   "id": "b1c23eed-5c82-406f-9511-772f07304314",
   "metadata": {
    "tags": []
   },
   "outputs": [
    {
     "data": {
      "image/png": "[encoded data removed]",
      "text/plain": [
       "<Figure size 1440x1440 with 8 Axes>"
      ]
     },
     "metadata": {
      "needs_background": "light"
     },
     "output_type": "display_data"
    }
   ],
   "source": [
    "plt.figure(figsize=(20, 20))\n",
    "\n",
    "for column_index, column in enumerate(falsediabetes.columns):\n",
    "    if column == 'Outcome':\n",
    "        continue\n",
    "    plt.subplot(4, 4, column_index + 1)\n",
    "    sns.violinplot(x='Outcome', y=column, data=falsediabetes)\n",
    "    plt.savefig('falsediab.jpg')"
   ]
  },
  {
   "cell_type": "code",
   "execution_count": 28,
   "id": "3f25b936-480e-41fa-bc1a-07b97050035a",
   "metadata": {},
   "outputs": [
    {
     "data": {
      "image/png": "[encoded data removed]",
      "text/plain": [
       "<Figure size 1440x1440 with 8 Axes>"
      ]
     },
     "metadata": {
      "needs_background": "light"
     },
     "output_type": "display_data"
    }
   ],
   "source": [
    "plt.figure(figsize=(20, 20))\n",
    "\n",
    "for column_index, column in enumerate(truediabetes.columns):\n",
    "    if column == 'Outcome':\n",
    "        continue\n",
    "    plt.subplot(4, 4, column_index + 1)\n",
    "    sns.violinplot(x='Outcome', y=column, data=truediabetes)\n",
    "    plt.savefig('truediab.jpg')"
   ]
  },
  {
   "cell_type": "markdown",
   "id": "a16721bf-8cd0-40ba-8506-b323f92a9532",
   "metadata": {},
   "source": [
    "# Split train/test data"
   ]
  },
  {
   "cell_type": "code",
   "execution_count": 29,
   "id": "405b92de-facc-4493-9faa-6299a250d78e",
   "metadata": {
    "tags": []
   },
   "outputs": [],
   "source": [
    "\n",
    "train = df.sample(frac=0.7, random_state=42)\n",
    "test = df.drop(train.index)\n",
    "\n",
    "label = \"Outcome\"\n",
    "y_test = test[label]\n",
    "X_test = test.drop(columns=[label])\n"
   ]
  },
  {
   "cell_type": "code",
   "execution_count": 30,
   "id": "5d53e02f-40ec-47e8-9d9f-c2c03317b26c",
   "metadata": {
    "tags": []
   },
   "outputs": [
    {
     "data": {
      "text/plain": [
       "(538, 9)"
      ]
     },
     "execution_count": 30,
     "metadata": {},
     "output_type": "execute_result"
    }
   ],
   "source": [
    "train.head(3)\n",
    "train.shape\n",
    "\n"
   ]
  },
  {
   "cell_type": "code",
   "execution_count": 31,
   "id": "7627f9b1-32ef-4eee-9785-f745c6ea702f",
   "metadata": {
    "tags": []
   },
   "outputs": [
    {
     "data": {
      "text/plain": [
       "(230, 9)"
      ]
     },
     "execution_count": 31,
     "metadata": {},
     "output_type": "execute_result"
    }
   ],
   "source": [
    "test.head(3)\n",
    "test.shape"
   ]
  },
  {
   "cell_type": "code",
   "execution_count": 32,
   "id": "eb550663-88c8-49bf-8d4f-2da82e682d1d",
   "metadata": {},
   "outputs": [
    {
     "data": {
      "text/plain": [
       "(230, 8)"
      ]
     },
     "execution_count": 32,
     "metadata": {},
     "output_type": "execute_result"
    }
   ],
   "source": [
    "X_test.head(3)\n",
    "X_test.shape\n"
   ]
  },
  {
   "cell_type": "markdown",
   "id": "8275d175-1e35-4c39-9932-c47c49d78fb5",
   "metadata": {},
   "source": [
    "## Benchmark Model\n"
   ]
  },
  {
   "cell_type": "code",
   "execution_count": 33,
   "id": "5cbbb0d6-3d19-491d-a37f-efde0ccc0374",
   "metadata": {
    "tags": []
   },
   "outputs": [
    {
     "name": "stdout",
     "output_type": "stream",
     "text": [
      "Requirement already satisfied: graphviz in /usr/local/lib/python3.8/dist-packages (0.8.4)\n",
      "\u001b[33mWARNING: Running pip as the 'root' user can result in broken permissions and conflicting behaviour with the system package manager. It is recommended to use a virtual environment instead: https://pip.pypa.io/warnings/venv\u001b[0m\u001b[33m\n",
      "\u001b[0m"
     ]
    }
   ],
   "source": [
    "!pip install graphviz\n"
   ]
  },
  {
   "cell_type": "code",
   "execution_count": 34,
   "id": "42638fb1-92e8-48f6-b165-69ad9011b190",
   "metadata": {
    "tags": []
   },
   "outputs": [],
   "source": [
    "from sklearn.tree import DecisionTreeClassifier\n",
    "from sklearn.model_selection import train_test_split\n",
    "from sklearn import tree"
   ]
  },
  {
   "cell_type": "code",
   "execution_count": 35,
   "id": "509ea318-3b3c-45f4-b6c0-9d75f99287d0",
   "metadata": {
    "tags": []
   },
   "outputs": [
    {
     "name": "stdout",
     "output_type": "stream",
     "text": [
      "Accuracy on training set: 0.818\n",
      "Accuracy on test set: 0.766\n"
     ]
    }
   ],
   "source": [
    "X=df[df.columns[0:-1]]\n",
    "Y=df[df.columns[-1]]\n",
    "\n",
    "\n",
    "X_train,X_test,y_train,y_test = train_test_split(X,Y,stratify=Y,random_state=42)\n",
    "clf = DecisionTreeClassifier(max_depth=4,random_state=0)\n",
    "clf.fit(X_train,y_train)\n",
    "print(\"Accuracy on training set: {:.3f}\".format(clf.score(X_train,y_train)))\n",
    "print(\"Accuracy on test set: {:.3f}\".format(clf.score(X_test,y_test)))"
   ]
  },
  {
   "cell_type": "markdown",
   "id": "3534b063-38b1-4a8a-a19b-40b6bcadd86d",
   "metadata": {},
   "source": [
    "## Evaluate"
   ]
  },
  {
   "cell_type": "code",
   "execution_count": 36,
   "id": "f9a48e27-4035-4a9e-bc81-ee8b575118cb",
   "metadata": {
    "tags": []
   },
   "outputs": [
    {
     "data": {
      "text/plain": [
       "array([0, 0, 0, 1, 1, 0, 1, 0, 1, 0, 1, 1, 1, 0, 1, 1, 0, 0, 0, 0, 0, 0,\n",
       "       0, 1, 1, 1, 0, 0, 1, 1, 0, 0, 0, 0, 1, 0, 1, 0, 0, 0, 1, 0, 0, 1,\n",
       "       1, 1, 1, 0, 1, 1, 1, 0, 0, 0, 0, 0, 1, 0, 0, 0, 1, 1, 0, 0, 0, 0,\n",
       "       0, 0, 0, 0, 0, 1, 1, 0, 0, 0, 0, 0, 0, 0, 0, 1, 0, 0, 1, 1, 0, 0,\n",
       "       0, 0, 0, 1, 0, 0, 1, 0, 0, 0, 0, 0, 1, 0, 0, 0, 1, 1, 1, 1, 1, 0,\n",
       "       0, 0, 0, 1, 1, 0, 1, 1, 0, 1, 1, 1, 0, 0, 0, 0, 0, 1, 0, 0, 1, 0,\n",
       "       1, 0, 0, 0, 0, 0, 1, 0, 0, 0, 0, 0, 0, 0, 0, 0, 1, 0, 0, 1, 1, 0,\n",
       "       1, 1, 0, 0, 0, 0, 0, 0, 0, 1, 0, 0, 1, 1, 1, 0, 0, 1, 0, 1, 0, 1,\n",
       "       0, 0, 1, 1, 0, 0, 0, 1, 1, 1, 1, 0, 0, 0, 1, 0])"
      ]
     },
     "execution_count": 36,
     "metadata": {},
     "output_type": "execute_result"
    }
   ],
   "source": [
    "test_pred_decision_tree = clf.predict(X_test)\n",
    "test_pred_decision_tree"
   ]
  },
  {
   "cell_type": "markdown",
   "id": "1b1ca3e1-be58-42cb-98a7-e156f0bd9762",
   "metadata": {},
   "source": [
    "## Upload data to S3"
   ]
  },
  {
   "cell_type": "code",
   "execution_count": 37,
   "id": "883a8278-2192-4317-9d10-819d920df994",
   "metadata": {
    "tags": []
   },
   "outputs": [],
   "source": [
    "train_file = \"train.csv\"\n",
    "train.to_csv(train_file, index=False)\n",
    "train_s3_path = session.upload_data(train_file, key_prefix=\"{}/data\".format(prefix))\n",
    "\n",
    "test_file = \"test.csv\"\n",
    "test.to_csv(test_file, index=False)\n",
    "test_s3_path = session.upload_data(test_file, key_prefix=\"{}/data\".format(prefix))\n",
    "\n",
    "\n",
    "X_test_file = \"X_test.csv\"\n",
    "X_test.to_csv(X_test_file, index=False)\n",
    "X_test_s3_path = session.upload_data(X_test_file, key_prefix=\"{}/data\".format(prefix))"
   ]
  },
  {
   "cell_type": "markdown",
   "id": "0046bc2d-d798-4187-856b-a78be54b24b0",
   "metadata": {},
   "source": [
    "## Model Hyperparameter Selection\n",
    "\n",
    "\n",
    "**Requirements:\n",
    "\n",
    "We are predicting outcome, so it is the label we are setting.\n",
    "Set a time limit of 10 minutes (600 seconds).\n",
    "Use the preset best_quality to focus on creating the best model optimize_for_deployemnt for inference"
   ]
  },
  {
   "cell_type": "markdown",
   "id": "38eff323-1af0-417e-a668-e0ec5e658c95",
   "metadata": {},
   "source": [
    "## Train"
   ]
  },
  {
   "cell_type": "code",
   "execution_count": 38,
   "id": "01d26c55-19c0-4e3f-8be4-940a21388ec6",
   "metadata": {},
   "outputs": [
    {
     "name": "stderr",
     "output_type": "stream",
     "text": [
      "No path specified. Models will be saved in: \"AutogluonModels/ag-20230315_050334/\"\n",
      "Presets specified: ['best_quality', 'optimize_for_deployment']\n",
      "Loaded data from: s3://sagemaker-us-east-1-495962688195/sagemaker/autogluon-tabular/data/train.csv | Columns = 9 / 9 | Rows = 538 -> 538\n",
      "Stack configuration (auto_stack=True): num_stack_levels=0, num_bag_folds=5, num_bag_sets=20\n",
      "Beginning AutoGluon training ... Time limit = 600s\n",
      "AutoGluon will save models to \"AutogluonModels/ag-20230315_050334/\"\n",
      "AutoGluon Version:  0.7.0\n",
      "Python Version:     3.8.10\n",
      "Operating System:   Linux\n",
      "Platform Machine:   x86_64\n",
      "Platform Version:   #1 SMP Wed Feb 1 21:34:38 UTC 2023\n",
      "Train Data Rows:    538\n",
      "Train Data Columns: 8\n",
      "Label Column: Outcome\n",
      "Preprocessing data ...\n",
      "AutoGluon infers your prediction problem is: 'binary' (because only two unique label-values observed).\n",
      "\t2 unique label values:  [0, 1]\n",
      "\tIf 'binary' is not the correct problem_type, please manually specify the problem_type parameter during predictor init (You may specify problem_type as one of: ['binary', 'multiclass', 'regression'])\n",
      "Selected class <--> label mapping:  class 1 = 1, class 0 = 0\n",
      "Using Feature Generators to preprocess the data ...\n",
      "Fitting AutoMLPipelineFeatureGenerator...\n",
      "\tAvailable Memory:                    2641.12 MB\n",
      "\tTrain Data (Original)  Memory Usage: 0.03 MB (0.0% of available memory)\n",
      "\tInferring data type of each feature based on column values. Set feature_metadata_in to manually specify special dtypes of the features.\n",
      "\tStage 1 Generators:\n",
      "\t\tFitting AsTypeFeatureGenerator...\n",
      "\tStage 2 Generators:\n",
      "\t\tFitting FillNaFeatureGenerator...\n",
      "\tStage 3 Generators:\n",
      "\t\tFitting IdentityFeatureGenerator...\n",
      "\tStage 4 Generators:\n",
      "\t\tFitting DropUniqueFeatureGenerator...\n",
      "\tTypes of features in original data (raw dtype, special dtypes):\n",
      "\t\t('float', []) : 2 | ['BMI', 'DiabetesPedigreeFunction']\n",
      "\t\t('int', [])   : 6 | ['Pregnancies', 'Glucose', 'BloodPressure', 'SkinThickness', 'Insulin', ...]\n",
      "\tTypes of features in processed data (raw dtype, special dtypes):\n",
      "\t\t('float', []) : 2 | ['BMI', 'DiabetesPedigreeFunction']\n",
      "\t\t('int', [])   : 6 | ['Pregnancies', 'Glucose', 'BloodPressure', 'SkinThickness', 'Insulin', ...]\n",
      "\t0.0s = Fit runtime\n",
      "\t8 features in original data used to generate 8 features in processed data.\n",
      "\tTrain Data (Processed) Memory Usage: 0.03 MB (0.0% of available memory)\n",
      "Data preprocessing and feature engineering runtime = 0.07s ...\n",
      "AutoGluon will gauge predictive performance using evaluation metric: 'roc_auc'\n",
      "\tThis metric expects predicted probabilities rather than predicted class labels, so you'll need to use predict_proba() instead of predict()\n",
      "\tTo change this, specify the eval_metric parameter of Predictor()\n",
      "Fitting 13 L1 models ...\n",
      "Fitting model: KNeighborsUnif_BAG_L1 ... Training model for up to 599.93s of the 599.93s of remaining time.\n",
      "\t0.7495\t = Validation score   (roc_auc)\n",
      "\t0.0s\t = Training   runtime\n",
      "\t0.01s\t = Validation runtime\n",
      "Fitting model: KNeighborsDist_BAG_L1 ... Training model for up to 597.61s of the 597.61s of remaining time.\n",
      "\t0.7509\t = Validation score   (roc_auc)\n",
      "\t0.0s\t = Training   runtime\n",
      "\t0.0s\t = Validation runtime\n",
      "Fitting model: LightGBMXT_BAG_L1 ... Training model for up to 597.51s of the 597.51s of remaining time.\n",
      "\tFitting 5 child models (S1F1 - S1F5) | Fitting with ParallelLocalFoldFittingStrategy\n",
      "\t0.8485\t = Validation score   (roc_auc)\n",
      "\t6.63s\t = Training   runtime\n",
      "\t0.01s\t = Validation runtime\n",
      "Fitting model: LightGBM_BAG_L1 ... Training model for up to 584.46s of the 584.46s of remaining time.\n",
      "\tFitting 5 child models (S1F1 - S1F5) | Fitting with ParallelLocalFoldFittingStrategy\n",
      "\t0.8406\t = Validation score   (roc_auc)\n",
      "\t6.67s\t = Training   runtime\n",
      "\t0.01s\t = Validation runtime\n",
      "Fitting model: RandomForestGini_BAG_L1 ... Training model for up to 574.73s of the 574.73s of remaining time.\n",
      "\t0.8239\t = Validation score   (roc_auc)\n",
      "\t0.66s\t = Training   runtime\n",
      "\t0.18s\t = Validation runtime\n",
      "Fitting model: RandomForestEntr_BAG_L1 ... Training model for up to 573.75s of the 573.75s of remaining time.\n",
      "\t0.825\t = Validation score   (roc_auc)\n",
      "\t0.55s\t = Training   runtime\n",
      "\t0.12s\t = Validation runtime\n",
      "Fitting model: CatBoost_BAG_L1 ... Training model for up to 572.94s of the 572.94s of remaining time.\n",
      "\tFitting 5 child models (S1F1 - S1F5) | Fitting with ParallelLocalFoldFittingStrategy\n",
      "\t0.844\t = Validation score   (roc_auc)\n",
      "\t8.63s\t = Training   runtime\n",
      "\t0.0s\t = Validation runtime\n",
      "Fitting model: ExtraTreesGini_BAG_L1 ... Training model for up to 561.09s of the 561.08s of remaining time.\n",
      "\t0.8178\t = Validation score   (roc_auc)\n",
      "\t0.55s\t = Training   runtime\n",
      "\t0.12s\t = Validation runtime\n",
      "Fitting model: ExtraTreesEntr_BAG_L1 ... Training model for up to 560.22s of the 560.22s of remaining time.\n",
      "\t0.8218\t = Validation score   (roc_auc)\n",
      "\t0.67s\t = Training   runtime\n",
      "\t0.12s\t = Validation runtime\n",
      "Fitting model: NeuralNetFastAI_BAG_L1 ... Training model for up to 559.24s of the 559.24s of remaining time.\n",
      "\tFitting 5 child models (S1F1 - S1F5) | Fitting with ParallelLocalFoldFittingStrategy\n",
      "\t0.8142\t = Validation score   (roc_auc)\n",
      "\t16.32s\t = Training   runtime\n",
      "\t0.07s\t = Validation runtime\n",
      "Fitting model: XGBoost_BAG_L1 ... Training model for up to 540.03s of the 540.02s of remaining time.\n",
      "\tFitting 5 child models (S1F1 - S1F5) | Fitting with ParallelLocalFoldFittingStrategy\n",
      "\t0.8228\t = Validation score   (roc_auc)\n",
      "\t6.57s\t = Training   runtime\n",
      "\t0.02s\t = Validation runtime\n",
      "Fitting model: NeuralNetTorch_BAG_L1 ... Training model for up to 530.2s of the 530.2s of remaining time.\n",
      "\tFitting 5 child models (S1F1 - S1F5) | Fitting with ParallelLocalFoldFittingStrategy\n",
      "\t0.8253\t = Validation score   (roc_auc)\n",
      "\t16.6s\t = Training   runtime\n",
      "\t0.08s\t = Validation runtime\n",
      "Fitting model: LightGBMLarge_BAG_L1 ... Training model for up to 510.48s of the 510.48s of remaining time.\n",
      "\tFitting 5 child models (S1F1 - S1F5) | Fitting with ParallelLocalFoldFittingStrategy\n",
      "\t0.8183\t = Validation score   (roc_auc)\n",
      "\t7.76s\t = Training   runtime\n",
      "\t0.01s\t = Validation runtime\n",
      "Repeating k-fold bagging: 2/20\n",
      "Fitting model: LightGBMXT_BAG_L1 ... Training model for up to 499.48s of the 499.47s of remaining time.\n",
      "\tFitting 5 child models (S2F1 - S2F5) | Fitting with ParallelLocalFoldFittingStrategy\n",
      "\t0.8475\t = Validation score   (roc_auc)\n",
      "\t13.47s\t = Training   runtime\n",
      "\t0.02s\t = Validation runtime\n",
      "Fitting model: LightGBM_BAG_L1 ... Training model for up to 489.48s of the 489.48s of remaining time.\n",
      "\tFitting 5 child models (S2F1 - S2F5) | Fitting with ParallelLocalFoldFittingStrategy\n",
      "\t0.8363\t = Validation score   (roc_auc)\n",
      "\t13.59s\t = Training   runtime\n",
      "\t0.02s\t = Validation runtime\n",
      "Fitting model: CatBoost_BAG_L1 ... Training model for up to 479.45s of the 479.45s of remaining time.\n",
      "\tFitting 5 child models (S2F1 - S2F5) | Fitting with ParallelLocalFoldFittingStrategy\n",
      "\t0.8429\t = Validation score   (roc_auc)\n",
      "\t17.55s\t = Training   runtime\n",
      "\t0.01s\t = Validation runtime\n",
      "Fitting model: NeuralNetFastAI_BAG_L1 ... Training model for up to 467.55s of the 467.55s of remaining time.\n",
      "\tFitting 5 child models (S2F1 - S2F5) | Fitting with ParallelLocalFoldFittingStrategy\n",
      "\t0.8257\t = Validation score   (roc_auc)\n",
      "\t34.07s\t = Training   runtime\n",
      "\t0.15s\t = Validation runtime\n",
      "Fitting model: XGBoost_BAG_L1 ... Training model for up to 446.7s of the 446.7s of remaining time.\n",
      "\tFitting 5 child models (S2F1 - S2F5) | Fitting with ParallelLocalFoldFittingStrategy\n",
      "\t0.8321\t = Validation score   (roc_auc)\n",
      "\t13.21s\t = Training   runtime\n",
      "\t0.04s\t = Validation runtime\n",
      "Fitting model: NeuralNetTorch_BAG_L1 ... Training model for up to 436.84s of the 436.84s of remaining time.\n",
      "\tFitting 5 child models (S2F1 - S2F5) | Fitting with ParallelLocalFoldFittingStrategy\n",
      "\t0.8305\t = Validation score   (roc_auc)\n",
      "\t31.56s\t = Training   runtime\n",
      "\t0.15s\t = Validation runtime\n",
      "Fitting model: LightGBMLarge_BAG_L1 ... Training model for up to 418.46s of the 418.46s of remaining time.\n",
      "\tFitting 5 child models (S2F1 - S2F5) | Fitting with ParallelLocalFoldFittingStrategy\n",
      "\t0.8178\t = Validation score   (roc_auc)\n",
      "\t15.53s\t = Training   runtime\n",
      "\t0.02s\t = Validation runtime\n",
      "Repeating k-fold bagging: 3/20\n",
      "Fitting model: LightGBMXT_BAG_L1 ... Training model for up to 407.45s of the 407.45s of remaining time.\n",
      "\tFitting 5 child models (S3F1 - S3F5) | Fitting with ParallelLocalFoldFittingStrategy\n",
      "\t0.8489\t = Validation score   (roc_auc)\n",
      "\t20.28s\t = Training   runtime\n",
      "\t0.03s\t = Validation runtime\n",
      "Fitting model: LightGBM_BAG_L1 ... Training model for up to 397.54s of the 397.54s of remaining time.\n",
      "\tFitting 5 child models (S3F1 - S3F5) | Fitting with ParallelLocalFoldFittingStrategy\n",
      "\t0.8376\t = Validation score   (roc_auc)\n",
      "\t20.91s\t = Training   runtime\n",
      "\t0.03s\t = Validation runtime\n",
      "Fitting model: CatBoost_BAG_L1 ... Training model for up to 387.1s of the 387.1s of remaining time.\n",
      "\tFitting 5 child models (S3F1 - S3F5) | Fitting with ParallelLocalFoldFittingStrategy\n",
      "\t0.8436\t = Validation score   (roc_auc)\n",
      "\t26.36s\t = Training   runtime\n",
      "\t0.01s\t = Validation runtime\n",
      "Fitting model: NeuralNetFastAI_BAG_L1 ... Training model for up to 375.07s of the 375.06s of remaining time.\n",
      "\tFitting 5 child models (S3F1 - S3F5) | Fitting with ParallelLocalFoldFittingStrategy\n",
      "\t0.83\t = Validation score   (roc_auc)\n",
      "\t50.94s\t = Training   runtime\n",
      "\t0.21s\t = Validation runtime\n",
      "Fitting model: XGBoost_BAG_L1 ... Training model for up to 355.02s of the 355.02s of remaining time.\n",
      "\tFitting 5 child models (S3F1 - S3F5) | Fitting with ParallelLocalFoldFittingStrategy\n",
      "\t0.8347\t = Validation score   (roc_auc)\n",
      "\t19.74s\t = Training   runtime\n",
      "\t0.11s\t = Validation runtime\n",
      "Fitting model: NeuralNetTorch_BAG_L1 ... Training model for up to 345.12s of the 345.12s of remaining time.\n",
      "\tFitting 5 child models (S3F1 - S3F5) | Fitting with ParallelLocalFoldFittingStrategy\n",
      "\t0.8287\t = Validation score   (roc_auc)\n",
      "\t47.16s\t = Training   runtime\n",
      "\t0.26s\t = Validation runtime\n",
      "Fitting model: LightGBMLarge_BAG_L1 ... Training model for up to 326.46s of the 326.46s of remaining time.\n",
      "\tFitting 5 child models (S3F1 - S3F5) | Fitting with ParallelLocalFoldFittingStrategy\n",
      "\t0.8251\t = Validation score   (roc_auc)\n",
      "\t23.11s\t = Training   runtime\n",
      "\t0.04s\t = Validation runtime\n",
      "Repeating k-fold bagging: 4/20\n",
      "Fitting model: LightGBMXT_BAG_L1 ... Training model for up to 315.68s of the 315.68s of remaining time.\n",
      "\tFitting 5 child models (S4F1 - S4F5) | Fitting with ParallelLocalFoldFittingStrategy\n",
      "\t0.8481\t = Validation score   (roc_auc)\n",
      "\t26.96s\t = Training   runtime\n",
      "\t0.04s\t = Validation runtime\n",
      "Fitting model: LightGBM_BAG_L1 ... Training model for up to 305.88s of the 305.88s of remaining time.\n",
      "\tFitting 5 child models (S4F1 - S4F5) | Fitting with ParallelLocalFoldFittingStrategy\n",
      "\t0.8356\t = Validation score   (roc_auc)\n",
      "\t27.68s\t = Training   runtime\n",
      "\t0.04s\t = Validation runtime\n",
      "Fitting model: CatBoost_BAG_L1 ... Training model for up to 295.94s of the 295.94s of remaining time.\n",
      "\tFitting 5 child models (S4F1 - S4F5) | Fitting with ParallelLocalFoldFittingStrategy\n",
      "\t0.8417\t = Validation score   (roc_auc)\n",
      "\t35.28s\t = Training   runtime\n",
      "\t0.02s\t = Validation runtime\n",
      "Fitting model: NeuralNetFastAI_BAG_L1 ... Training model for up to 283.83s of the 283.83s of remaining time.\n",
      "\tFitting 5 child models (S4F1 - S4F5) | Fitting with ParallelLocalFoldFittingStrategy\n",
      "\t0.8288\t = Validation score   (roc_auc)\n",
      "\t67.91s\t = Training   runtime\n",
      "\t0.27s\t = Validation runtime\n",
      "Fitting model: XGBoost_BAG_L1 ... Training model for up to 263.8s of the 263.8s of remaining time.\n",
      "\tFitting 5 child models (S4F1 - S4F5) | Fitting with ParallelLocalFoldFittingStrategy\n",
      "\t0.8327\t = Validation score   (roc_auc)\n",
      "\t26.57s\t = Training   runtime\n",
      "\t0.13s\t = Validation runtime\n",
      "Fitting model: NeuralNetTorch_BAG_L1 ... Training model for up to 253.7s of the 253.7s of remaining time.\n",
      "\tFitting 5 child models (S4F1 - S4F5) | Fitting with ParallelLocalFoldFittingStrategy\n",
      "\t0.8267\t = Validation score   (roc_auc)\n",
      "\t62.62s\t = Training   runtime\n",
      "\t0.34s\t = Validation runtime\n",
      "Fitting model: LightGBMLarge_BAG_L1 ... Training model for up to 235.1s of the 235.1s of remaining time.\n",
      "\tFitting 5 child models (S4F1 - S4F5) | Fitting with ParallelLocalFoldFittingStrategy\n",
      "\t0.8236\t = Validation score   (roc_auc)\n",
      "\t30.72s\t = Training   runtime\n",
      "\t0.05s\t = Validation runtime\n",
      "Repeating k-fold bagging: 5/20\n",
      "Fitting model: LightGBMXT_BAG_L1 ... Training model for up to 224.24s of the 224.24s of remaining time.\n",
      "\tFitting 5 child models (S5F1 - S5F5) | Fitting with ParallelLocalFoldFittingStrategy\n",
      "\t0.8479\t = Validation score   (roc_auc)\n",
      "\t33.6s\t = Training   runtime\n",
      "\t0.05s\t = Validation runtime\n",
      "Fitting model: LightGBM_BAG_L1 ... Training model for up to 214.49s of the 214.48s of remaining time.\n",
      "\tFitting 5 child models (S5F1 - S5F5) | Fitting with ParallelLocalFoldFittingStrategy\n",
      "\t0.8339\t = Validation score   (roc_auc)\n",
      "\t34.58s\t = Training   runtime\n",
      "\t0.05s\t = Validation runtime\n",
      "Fitting model: CatBoost_BAG_L1 ... Training model for up to 203.49s of the 203.49s of remaining time.\n",
      "\tFitting 5 child models (S5F1 - S5F5) | Fitting with ParallelLocalFoldFittingStrategy\n",
      "\t0.8402\t = Validation score   (roc_auc)\n",
      "\t43.89s\t = Training   runtime\n",
      "\t0.02s\t = Validation runtime\n",
      "Fitting model: NeuralNetFastAI_BAG_L1 ... Training model for up to 191.78s of the 191.78s of remaining time.\n",
      "\tFitting 5 child models (S5F1 - S5F5) | Fitting with ParallelLocalFoldFittingStrategy\n",
      "\t0.83\t = Validation score   (roc_auc)\n",
      "\t85.02s\t = Training   runtime\n",
      "\t0.33s\t = Validation runtime\n",
      "Fitting model: XGBoost_BAG_L1 ... Training model for up to 171.57s of the 171.56s of remaining time.\n",
      "\tFitting 5 child models (S5F1 - S5F5) | Fitting with ParallelLocalFoldFittingStrategy\n",
      "\t0.8332\t = Validation score   (roc_auc)\n",
      "\t33.19s\t = Training   runtime\n",
      "\t0.16s\t = Validation runtime\n",
      "Fitting model: NeuralNetTorch_BAG_L1 ... Training model for up to 161.25s of the 161.25s of remaining time.\n",
      "\tFitting 5 child models (S5F1 - S5F5) | Fitting with ParallelLocalFoldFittingStrategy\n",
      "\t0.8293\t = Validation score   (roc_auc)\n",
      "\t79.43s\t = Training   runtime\n",
      "\t0.41s\t = Validation runtime\n",
      "Fitting model: LightGBMLarge_BAG_L1 ... Training model for up to 141.33s of the 141.33s of remaining time.\n",
      "\tFitting 5 child models (S5F1 - S5F5) | Fitting with ParallelLocalFoldFittingStrategy\n",
      "\t0.8247\t = Validation score   (roc_auc)\n",
      "\t38.39s\t = Training   runtime\n",
      "\t0.06s\t = Validation runtime\n",
      "Repeating k-fold bagging: 6/20\n",
      "Fitting model: LightGBMXT_BAG_L1 ... Training model for up to 130.22s of the 130.22s of remaining time.\n",
      "\tFitting 5 child models (S6F1 - S6F5) | Fitting with ParallelLocalFoldFittingStrategy\n",
      "\t0.849\t = Validation score   (roc_auc)\n",
      "\t40.49s\t = Training   runtime\n",
      "\t0.07s\t = Validation runtime\n",
      "Fitting model: LightGBM_BAG_L1 ... Training model for up to 120.17s of the 120.17s of remaining time.\n",
      "\tFitting 5 child models (S6F1 - S6F5) | Fitting with ParallelLocalFoldFittingStrategy\n",
      "\t0.8356\t = Validation score   (roc_auc)\n",
      "\t41.52s\t = Training   runtime\n",
      "\t0.06s\t = Validation runtime\n",
      "Fitting model: CatBoost_BAG_L1 ... Training model for up to 109.87s of the 109.87s of remaining time.\n",
      "\tFitting 5 child models (S6F1 - S6F5) | Fitting with ParallelLocalFoldFittingStrategy\n",
      "\t0.8413\t = Validation score   (roc_auc)\n",
      "\t53.01s\t = Training   runtime\n",
      "\t0.03s\t = Validation runtime\n",
      "Fitting model: NeuralNetFastAI_BAG_L1 ... Training model for up to 97.62s of the 97.62s of remaining time.\n",
      "\tFitting 5 child models (S6F1 - S6F5) | Fitting with ParallelLocalFoldFittingStrategy\n",
      "\t0.8311\t = Validation score   (roc_auc)\n",
      "\t102.19s\t = Training   runtime\n",
      "\t0.38s\t = Validation runtime\n",
      "Fitting model: XGBoost_BAG_L1 ... Training model for up to 77.21s of the 77.21s of remaining time.\n",
      "\tFitting 5 child models (S6F1 - S6F5) | Fitting with ParallelLocalFoldFittingStrategy\n",
      "\t0.8331\t = Validation score   (roc_auc)\n",
      "\t39.76s\t = Training   runtime\n",
      "\t0.18s\t = Validation runtime\n",
      "Fitting model: NeuralNetTorch_BAG_L1 ... Training model for up to 67.31s of the 67.31s of remaining time.\n",
      "\tFitting 5 child models (S6F1 - S6F5) | Fitting with ParallelLocalFoldFittingStrategy\n",
      "\t0.8304\t = Validation score   (roc_auc)\n",
      "\t95.51s\t = Training   runtime\n",
      "\t0.5s\t = Validation runtime\n",
      "Fitting model: LightGBMLarge_BAG_L1 ... Training model for up to 48.14s of the 48.14s of remaining time.\n",
      "\tFitting 5 child models (S6F1 - S6F5) | Fitting with ParallelLocalFoldFittingStrategy\n",
      "\t0.825\t = Validation score   (roc_auc)\n",
      "\t46.14s\t = Training   runtime\n",
      "\t0.07s\t = Validation runtime\n",
      "Completed 6/20 k-fold bagging repeats ...\n",
      "Fitting model: WeightedEnsemble_L2 ... Training model for up to 360.0s of the 37.27s of remaining time.\n",
      "\t0.8497\t = Validation score   (roc_auc)\n",
      "\t0.43s\t = Training   runtime\n",
      "\t0.0s\t = Validation runtime\n",
      "AutoGluon training complete, total runtime = 563.32s ... Best model: \"WeightedEnsemble_L2\"\n",
      "Deleting model KNeighborsUnif_BAG_L1. All files under AutogluonModels/ag-20230315_050334/models/KNeighborsUnif_BAG_L1/ will be removed.\n",
      "Deleting model KNeighborsDist_BAG_L1. All files under AutogluonModels/ag-20230315_050334/models/KNeighborsDist_BAG_L1/ will be removed.\n",
      "Deleting model LightGBM_BAG_L1. All files under AutogluonModels/ag-20230315_050334/models/LightGBM_BAG_L1/ will be removed.\n",
      "Deleting model RandomForestGini_BAG_L1. All files under AutogluonModels/ag-20230315_050334/models/RandomForestGini_BAG_L1/ will be removed.\n",
      "Deleting model RandomForestEntr_BAG_L1. All files under AutogluonModels/ag-20230315_050334/models/RandomForestEntr_BAG_L1/ will be removed.\n",
      "Deleting model CatBoost_BAG_L1. All files under AutogluonModels/ag-20230315_050334/models/CatBoost_BAG_L1/ will be removed.\n",
      "Deleting model ExtraTreesGini_BAG_L1. All files under AutogluonModels/ag-20230315_050334/models/ExtraTreesGini_BAG_L1/ will be removed.\n",
      "Deleting model ExtraTreesEntr_BAG_L1. All files under AutogluonModels/ag-20230315_050334/models/ExtraTreesEntr_BAG_L1/ will be removed.\n",
      "Deleting model XGBoost_BAG_L1. All files under AutogluonModels/ag-20230315_050334/models/XGBoost_BAG_L1/ will be removed.\n",
      "Deleting model LightGBMLarge_BAG_L1. All files under AutogluonModels/ag-20230315_050334/models/LightGBMLarge_BAG_L1/ will be removed.\n",
      "TabularPredictor saved. To load, use: predictor = TabularPredictor.load(\"AutogluonModels/ag-20230315_050334/\")\n"
     ]
    },
    {
     "name": "stdout",
     "output_type": "stream",
     "text": [
      "CPU times: user 10.9 s, sys: 1.56 s, total: 12.4 s\n",
      "Wall time: 9min 25s\n"
     ]
    }
   ],
   "source": [
    "%%time\n",
    "\n",
    "predictor = TabularPredictor(label='Outcome', \n",
    "                             eval_metric='roc_auc',\n",
    "                             ).fit(train_data=train_s3_path,\n",
    "                                  time_limit=600,\n",
    "                                  presets=['best_quality', 'optimize_for_deployment'],\n",
    "                                 )"
   ]
  },
  {
   "cell_type": "code",
   "execution_count": 39,
   "id": "69e70376-9200-47c4-8654-cbacbe25c86f",
   "metadata": {
    "tags": []
   },
   "outputs": [
    {
     "name": "stdout",
     "output_type": "stream",
     "text": [
      "*** Summary of fit() ***\n",
      "Estimated performance of each model:\n",
      "                    model  score_val  pred_time_val    fit_time  pred_time_val_marginal  fit_time_marginal  stack_level  can_infer  fit_order\n",
      "0     WeightedEnsemble_L2   0.849699       0.947652  238.621253                0.000477           0.432110            2       True          4\n",
      "1       LightGBMXT_BAG_L1   0.848956       0.066890   40.488164                0.066890          40.488164            1       True          1\n",
      "2  NeuralNetFastAI_BAG_L1   0.831127       0.383759  102.190960                0.383759         102.190960            1       True          2\n",
      "3   NeuralNetTorch_BAG_L1   0.830445       0.496527   95.510019                0.496527          95.510019            1       True          3\n",
      "Number of models trained: 4\n",
      "Types of models trained:\n",
      "{'WeightedEnsembleModel', 'StackerEnsembleModel_TabularNeuralNetTorch', 'StackerEnsembleModel_LGB', 'StackerEnsembleModel_NNFastAiTabular'}\n",
      "Bagging used: True  (with 5 folds)\n",
      "Multi-layer stack-ensembling used: False \n",
      "Feature Metadata (Processed):\n",
      "(raw dtype, special dtypes):\n",
      "('float', []) : 2 | ['BMI', 'DiabetesPedigreeFunction']\n",
      "('int', [])   : 6 | ['Pregnancies', 'Glucose', 'BloodPressure', 'SkinThickness', 'Insulin', ...]\n",
      "Plot summary of models saved to file: AutogluonModels/ag-20230315_050334/SummaryOfModels.html\n",
      "*** End of fit() summary ***\n"
     ]
    },
    {
     "data": {
      "text/plain": [
       "{'model_types': {'LightGBMXT_BAG_L1': 'StackerEnsembleModel_LGB',\n",
       "  'NeuralNetFastAI_BAG_L1': 'StackerEnsembleModel_NNFastAiTabular',\n",
       "  'NeuralNetTorch_BAG_L1': 'StackerEnsembleModel_TabularNeuralNetTorch',\n",
       "  'WeightedEnsemble_L2': 'WeightedEnsembleModel'},\n",
       " 'model_performance': {'LightGBMXT_BAG_L1': 0.8489562013917314,\n",
       "  'NeuralNetFastAI_BAG_L1': 0.8311274844226133,\n",
       "  'NeuralNetTorch_BAG_L1': 0.8304452631100195,\n",
       "  'WeightedEnsemble_L2': 0.8496990645987781},\n",
       " 'model_best': 'WeightedEnsemble_L2',\n",
       " 'model_paths': {'LightGBMXT_BAG_L1': 'AutogluonModels/ag-20230315_050334/models/LightGBMXT_BAG_L1/',\n",
       "  'NeuralNetFastAI_BAG_L1': 'AutogluonModels/ag-20230315_050334/models/NeuralNetFastAI_BAG_L1/',\n",
       "  'NeuralNetTorch_BAG_L1': 'AutogluonModels/ag-20230315_050334/models/NeuralNetTorch_BAG_L1/',\n",
       "  'WeightedEnsemble_L2': 'AutogluonModels/ag-20230315_050334/models/WeightedEnsemble_L2/'},\n",
       " 'model_fit_times': {'LightGBMXT_BAG_L1': 40.48816418647766,\n",
       "  'NeuralNetFastAI_BAG_L1': 102.1909601688385,\n",
       "  'NeuralNetTorch_BAG_L1': 95.510018825531,\n",
       "  'WeightedEnsemble_L2': 0.4321103096008301},\n",
       " 'model_pred_times': {'LightGBMXT_BAG_L1': 0.06688976287841797,\n",
       "  'NeuralNetFastAI_BAG_L1': 0.3837590217590332,\n",
       "  'NeuralNetTorch_BAG_L1': 0.49652695655822754,\n",
       "  'WeightedEnsemble_L2': 0.00047659873962402344},\n",
       " 'num_bag_folds': 5,\n",
       " 'max_stack_level': 2,\n",
       " 'num_classes': 2,\n",
       " 'model_hyperparams': {'LightGBMXT_BAG_L1': {'use_orig_features': True,\n",
       "   'max_base_models': 25,\n",
       "   'max_base_models_per_type': 5,\n",
       "   'save_bag_folds': True},\n",
       "  'NeuralNetFastAI_BAG_L1': {'use_orig_features': True,\n",
       "   'max_base_models': 25,\n",
       "   'max_base_models_per_type': 5,\n",
       "   'save_bag_folds': True},\n",
       "  'NeuralNetTorch_BAG_L1': {'use_orig_features': True,\n",
       "   'max_base_models': 25,\n",
       "   'max_base_models_per_type': 5,\n",
       "   'save_bag_folds': True},\n",
       "  'WeightedEnsemble_L2': {'use_orig_features': False,\n",
       "   'max_base_models': 25,\n",
       "   'max_base_models_per_type': 5,\n",
       "   'save_bag_folds': True}},\n",
       " 'leaderboard':                     model  score_val  pred_time_val    fit_time  \\\n",
       " 0     WeightedEnsemble_L2   0.849699       0.947652  238.621253   \n",
       " 1       LightGBMXT_BAG_L1   0.848956       0.066890   40.488164   \n",
       " 2  NeuralNetFastAI_BAG_L1   0.831127       0.383759  102.190960   \n",
       " 3   NeuralNetTorch_BAG_L1   0.830445       0.496527   95.510019   \n",
       " \n",
       "    pred_time_val_marginal  fit_time_marginal  stack_level  can_infer  \\\n",
       " 0                0.000477           0.432110            2       True   \n",
       " 1                0.066890          40.488164            1       True   \n",
       " 2                0.383759         102.190960            1       True   \n",
       " 3                0.496527          95.510019            1       True   \n",
       " \n",
       "    fit_order  \n",
       " 0          4  \n",
       " 1          1  \n",
       " 2          2  \n",
       " 3          3  }"
      ]
     },
     "execution_count": 39,
     "metadata": {},
     "output_type": "execute_result"
    }
   ],
   "source": [
    "predictor.fit_summary(show_plot=True)\n"
   ]
  },
  {
   "cell_type": "markdown",
   "id": "9fc69deb-30ef-43be-b1c2-796cff7a71f9",
   "metadata": {},
   "source": [
    "### Create predictions from test dataset\n"
   ]
  },
  {
   "cell_type": "markdown",
   "id": "4b3d03b6-b4c6-482d-a552-25b767fc6c84",
   "metadata": {},
   "source": [
    "### Monitoring"
   ]
  },
  {
   "cell_type": "code",
   "execution_count": 59,
   "id": "0535434d-f54a-4128-be76-076dece3145e",
   "metadata": {
    "tags": []
   },
   "outputs": [
    {
     "name": "stdout",
     "output_type": "stream",
     "text": [
      "                    model  score_val  pred_time_val    fit_time  pred_time_val_marginal  fit_time_marginal  stack_level  can_infer  fit_order\n",
      "0     WeightedEnsemble_L2   0.849699       0.947987  235.299451                0.000524           0.249235            2       True          4\n",
      "1       LightGBMXT_BAG_L1   0.848956       0.128012   40.415414                0.128012          40.415414            1       True          1\n",
      "2  NeuralNetFastAI_BAG_L1   0.831127       0.355836  100.760741                0.355836         100.760741            1       True          2\n",
      "3   NeuralNetTorch_BAG_L1   0.830445       0.463615   93.874062                0.463615          93.874062            1       True          3\n"
     ]
    },
    {
     "data": {
      "text/html": [
       "<div>\n",
       "<style scoped>\n",
       "    .dataframe tbody tr th:only-of-type {\n",
       "        vertical-align: middle;\n",
       "    }\n",
       "\n",
       "    .dataframe tbody tr th {\n",
       "        vertical-align: top;\n",
       "    }\n",
       "\n",
       "    .dataframe thead th {\n",
       "        text-align: right;\n",
       "    }\n",
       "</style>\n",
       "<table border=\"1\" class=\"dataframe\">\n",
       "  <thead>\n",
       "    <tr style=\"text-align: right;\">\n",
       "      <th></th>\n",
       "      <th>model</th>\n",
       "      <th>score_val</th>\n",
       "      <th>pred_time_val</th>\n",
       "      <th>fit_time</th>\n",
       "      <th>pred_time_val_marginal</th>\n",
       "      <th>fit_time_marginal</th>\n",
       "      <th>stack_level</th>\n",
       "      <th>can_infer</th>\n",
       "      <th>fit_order</th>\n",
       "    </tr>\n",
       "  </thead>\n",
       "  <tbody>\n",
       "    <tr>\n",
       "      <th>0</th>\n",
       "      <td>WeightedEnsemble_L2</td>\n",
       "      <td>0.849699</td>\n",
       "      <td>0.947987</td>\n",
       "      <td>235.299451</td>\n",
       "      <td>0.000524</td>\n",
       "      <td>0.249235</td>\n",
       "      <td>2</td>\n",
       "      <td>True</td>\n",
       "      <td>4</td>\n",
       "    </tr>\n",
       "    <tr>\n",
       "      <th>1</th>\n",
       "      <td>LightGBMXT_BAG_L1</td>\n",
       "      <td>0.848956</td>\n",
       "      <td>0.128012</td>\n",
       "      <td>40.415414</td>\n",
       "      <td>0.128012</td>\n",
       "      <td>40.415414</td>\n",
       "      <td>1</td>\n",
       "      <td>True</td>\n",
       "      <td>1</td>\n",
       "    </tr>\n",
       "    <tr>\n",
       "      <th>2</th>\n",
       "      <td>NeuralNetFastAI_BAG_L1</td>\n",
       "      <td>0.831127</td>\n",
       "      <td>0.355836</td>\n",
       "      <td>100.760741</td>\n",
       "      <td>0.355836</td>\n",
       "      <td>100.760741</td>\n",
       "      <td>1</td>\n",
       "      <td>True</td>\n",
       "      <td>2</td>\n",
       "    </tr>\n",
       "    <tr>\n",
       "      <th>3</th>\n",
       "      <td>NeuralNetTorch_BAG_L1</td>\n",
       "      <td>0.830445</td>\n",
       "      <td>0.463615</td>\n",
       "      <td>93.874062</td>\n",
       "      <td>0.463615</td>\n",
       "      <td>93.874062</td>\n",
       "      <td>1</td>\n",
       "      <td>True</td>\n",
       "      <td>3</td>\n",
       "    </tr>\n",
       "  </tbody>\n",
       "</table>\n",
       "</div>"
      ],
      "text/plain": [
       "                    model  score_val  pred_time_val    fit_time  \\\n",
       "0     WeightedEnsemble_L2   0.849699       0.947987  235.299451   \n",
       "1       LightGBMXT_BAG_L1   0.848956       0.128012   40.415414   \n",
       "2  NeuralNetFastAI_BAG_L1   0.831127       0.355836  100.760741   \n",
       "3   NeuralNetTorch_BAG_L1   0.830445       0.463615   93.874062   \n",
       "\n",
       "   pred_time_val_marginal  fit_time_marginal  stack_level  can_infer  \\\n",
       "0                0.000524           0.249235            2       True   \n",
       "1                0.128012          40.415414            1       True   \n",
       "2                0.355836         100.760741            1       True   \n",
       "3                0.463615          93.874062            1       True   \n",
       "\n",
       "   fit_order  \n",
       "0          4  \n",
       "1          1  \n",
       "2          2  \n",
       "3          3  "
      ]
     },
     "execution_count": 59,
     "metadata": {},
     "output_type": "execute_result"
    }
   ],
   "source": [
    "predictor.leaderboard()"
   ]
  },
  {
   "cell_type": "code",
   "execution_count": 60,
   "id": "7a1817e1-58fa-4c8b-a769-fff953d11601",
   "metadata": {
    "tags": []
   },
   "outputs": [
    {
     "data": {
      "text/plain": [
       "<AxesSubplot:xlabel='model'>"
      ]
     },
     "execution_count": 60,
     "metadata": {},
     "output_type": "execute_result"
    },
    {
     "data": {
      "image/png": "[encoded data removed]",
      "text/plain": [
       "<Figure size 432x288 with 1 Axes>"
      ]
     },
     "metadata": {
      "needs_background": "light"
     },
     "output_type": "display_data"
    }
   ],
   "source": [
    "predictor.leaderboard(silent=True).plot(kind=\"bar\", x=\"model\", y=\"score_val\")"
   ]
  },
  {
   "cell_type": "markdown",
   "id": "ce844923-0044-4b17-b46a-12b5eb76f1c7",
   "metadata": {},
   "source": [
    "## Predicting"
   ]
  },
  {
   "cell_type": "markdown",
   "id": "ae444bf5-3d7f-4b41-a0d7-633238b4e321",
   "metadata": {},
   "source": [
    "### Predicting for each row"
   ]
  },
  {
   "cell_type": "code",
   "execution_count": 41,
   "id": "389c1452-4a0b-410d-b8db-1121cad188a8",
   "metadata": {
    "tags": []
   },
   "outputs": [
    {
     "name": "stderr",
     "output_type": "stream",
     "text": [
      "Loaded data from: s3://sagemaker-us-east-1-495962688195/sagemaker/autogluon-tabular/data/test.csv | Columns = 9 / 9 | Rows = 230 -> 230\n"
     ]
    },
    {
     "data": {
      "text/plain": [
       "0    0\n",
       "1    1\n",
       "2    1\n",
       "3    1\n",
       "4    1\n",
       "Name: Outcome, dtype: int64"
      ]
     },
     "execution_count": 41,
     "metadata": {},
     "output_type": "execute_result"
    }
   ],
   "source": [
    "predictions = predictor.predict(test_s3_path)\n",
    "predictions.head()"
   ]
  },
  {
   "cell_type": "markdown",
   "id": "b01e045d-683a-43a8-b095-45602a0b0488",
   "metadata": {},
   "source": [
    "### Probabilities for classification"
   ]
  },
  {
   "cell_type": "code",
   "execution_count": 42,
   "id": "125e1c8b-8ee4-4a8b-8647-7c89e3593165",
   "metadata": {
    "tags": []
   },
   "outputs": [
    {
     "name": "stderr",
     "output_type": "stream",
     "text": [
      "Loaded data from: s3://sagemaker-us-east-1-495962688195/sagemaker/autogluon-tabular/data/test.csv | Columns = 9 / 9 | Rows = 230 -> 230\n"
     ]
    },
    {
     "data": {
      "text/html": [
       "<div>\n",
       "<style scoped>\n",
       "    .dataframe tbody tr th:only-of-type {\n",
       "        vertical-align: middle;\n",
       "    }\n",
       "\n",
       "    .dataframe tbody tr th {\n",
       "        vertical-align: top;\n",
       "    }\n",
       "\n",
       "    .dataframe thead th {\n",
       "        text-align: right;\n",
       "    }\n",
       "</style>\n",
       "<table border=\"1\" class=\"dataframe\">\n",
       "  <thead>\n",
       "    <tr style=\"text-align: right;\">\n",
       "      <th></th>\n",
       "      <th>0</th>\n",
       "      <th>1</th>\n",
       "    </tr>\n",
       "  </thead>\n",
       "  <tbody>\n",
       "    <tr>\n",
       "      <th>0</th>\n",
       "      <td>0.909209</td>\n",
       "      <td>0.090791</td>\n",
       "    </tr>\n",
       "    <tr>\n",
       "      <th>1</th>\n",
       "      <td>0.284950</td>\n",
       "      <td>0.715050</td>\n",
       "    </tr>\n",
       "    <tr>\n",
       "      <th>2</th>\n",
       "      <td>0.288398</td>\n",
       "      <td>0.711602</td>\n",
       "    </tr>\n",
       "    <tr>\n",
       "      <th>3</th>\n",
       "      <td>0.266683</td>\n",
       "      <td>0.733317</td>\n",
       "    </tr>\n",
       "    <tr>\n",
       "      <th>4</th>\n",
       "      <td>0.436233</td>\n",
       "      <td>0.563767</td>\n",
       "    </tr>\n",
       "    <tr>\n",
       "      <th>...</th>\n",
       "      <td>...</td>\n",
       "      <td>...</td>\n",
       "    </tr>\n",
       "    <tr>\n",
       "      <th>225</th>\n",
       "      <td>0.636808</td>\n",
       "      <td>0.363192</td>\n",
       "    </tr>\n",
       "    <tr>\n",
       "      <th>226</th>\n",
       "      <td>0.514149</td>\n",
       "      <td>0.485851</td>\n",
       "    </tr>\n",
       "    <tr>\n",
       "      <th>227</th>\n",
       "      <td>0.376166</td>\n",
       "      <td>0.623834</td>\n",
       "    </tr>\n",
       "    <tr>\n",
       "      <th>228</th>\n",
       "      <td>0.120273</td>\n",
       "      <td>0.879727</td>\n",
       "    </tr>\n",
       "    <tr>\n",
       "      <th>229</th>\n",
       "      <td>0.827849</td>\n",
       "      <td>0.172151</td>\n",
       "    </tr>\n",
       "  </tbody>\n",
       "</table>\n",
       "<p>230 rows × 2 columns</p>\n",
       "</div>"
      ],
      "text/plain": [
       "            0         1\n",
       "0    0.909209  0.090791\n",
       "1    0.284950  0.715050\n",
       "2    0.288398  0.711602\n",
       "3    0.266683  0.733317\n",
       "4    0.436233  0.563767\n",
       "..        ...       ...\n",
       "225  0.636808  0.363192\n",
       "226  0.514149  0.485851\n",
       "227  0.376166  0.623834\n",
       "228  0.120273  0.879727\n",
       "229  0.827849  0.172151\n",
       "\n",
       "[230 rows x 2 columns]"
      ]
     },
     "execution_count": 42,
     "metadata": {},
     "output_type": "execute_result"
    }
   ],
   "source": [
    "predictor.predict_proba(test_s3_path)\n"
   ]
  },
  {
   "cell_type": "markdown",
   "id": "9a5cad2a-dd70-4f38-b77e-afef5838e8d1",
   "metadata": {},
   "source": [
    "### Evaluate"
   ]
  },
  {
   "cell_type": "code",
   "execution_count": 43,
   "id": "204c5d82-e86a-47c8-ab3a-25d9291ab1bb",
   "metadata": {
    "tags": []
   },
   "outputs": [
    {
     "name": "stderr",
     "output_type": "stream",
     "text": [
      "Loaded data from: s3://sagemaker-us-east-1-495962688195/sagemaker/autogluon-tabular/data/test.csv | Columns = 9 / 9 | Rows = 230 -> 230\n",
      "Evaluation: roc_auc on test data: 0.8274792522424343\n",
      "Evaluations on test data:\n",
      "{\n",
      "    \"roc_auc\": 0.8274792522424343,\n",
      "    \"accuracy\": 0.7478260869565218,\n",
      "    \"balanced_accuracy\": 0.6872327940313522,\n",
      "    \"mcc\": 0.41186364034362855,\n",
      "    \"f1\": 0.5735294117647058,\n",
      "    \"precision\": 0.6842105263157895,\n",
      "    \"recall\": 0.4936708860759494\n",
      "}\n"
     ]
    },
    {
     "data": {
      "text/plain": [
       "{'roc_auc': 0.8274792522424343,\n",
       " 'accuracy': 0.7478260869565218,\n",
       " 'balanced_accuracy': 0.6872327940313522,\n",
       " 'mcc': 0.41186364034362855,\n",
       " 'f1': 0.5735294117647058,\n",
       " 'precision': 0.6842105263157895,\n",
       " 'recall': 0.4936708860759494}"
      ]
     },
     "execution_count": 43,
     "metadata": {},
     "output_type": "execute_result"
    }
   ],
   "source": [
    "predictor.evaluate(test_s3_path)"
   ]
  },
  {
   "cell_type": "code",
   "execution_count": null,
   "id": "3942cbdc-ad50-4ec5-808a-eb7551126fad",
   "metadata": {},
   "outputs": [],
   "source": []
  },
  {
   "cell_type": "markdown",
   "id": "62ee7e16-1ec7-4834-bc2b-0982db738bfc",
   "metadata": {},
   "source": [
    "# Fine tuning hyperparamters for retraining"
   ]
  },
  {
   "cell_type": "code",
   "execution_count": 44,
   "id": "f2ca30b8-98a2-4c1b-89fe-c483b35dbfa5",
   "metadata": {},
   "outputs": [
    {
     "name": "stderr",
     "output_type": "stream",
     "text": [
      "No path specified. Models will be saved in: \"AutogluonModels/ag-20230315_051304/\"\n",
      "Presets specified: ['best_quality', 'optimize_for_deployment']\n",
      "Loaded data from: s3://sagemaker-us-east-1-495962688195/sagemaker/autogluon-tabular/data/train.csv | Columns = 9 / 9 | Rows = 538 -> 538\n",
      "Stack configuration (auto_stack=True): num_stack_levels=0, num_bag_folds=5, num_bag_sets=20\n",
      "Beginning AutoGluon training ... Time limit = 600s\n",
      "AutoGluon will save models to \"AutogluonModels/ag-20230315_051304/\"\n",
      "AutoGluon Version:  0.7.0\n",
      "Python Version:     3.8.10\n",
      "Operating System:   Linux\n",
      "Platform Machine:   x86_64\n",
      "Platform Version:   #1 SMP Wed Feb 1 21:34:38 UTC 2023\n",
      "Train Data Rows:    538\n",
      "Train Data Columns: 8\n",
      "Label Column: Outcome\n",
      "Preprocessing data ...\n",
      "AutoGluon infers your prediction problem is: 'binary' (because only two unique label-values observed).\n",
      "\t2 unique label values:  [0, 1]\n",
      "\tIf 'binary' is not the correct problem_type, please manually specify the problem_type parameter during predictor init (You may specify problem_type as one of: ['binary', 'multiclass', 'regression'])\n",
      "Selected class <--> label mapping:  class 1 = 1, class 0 = 0\n",
      "Using Feature Generators to preprocess the data ...\n",
      "Fitting AutoMLPipelineFeatureGenerator...\n",
      "\tAvailable Memory:                    2222.06 MB\n",
      "\tTrain Data (Original)  Memory Usage: 0.03 MB (0.0% of available memory)\n",
      "\tInferring data type of each feature based on column values. Set feature_metadata_in to manually specify special dtypes of the features.\n",
      "\tStage 1 Generators:\n",
      "\t\tFitting AsTypeFeatureGenerator...\n",
      "\tStage 2 Generators:\n",
      "\t\tFitting FillNaFeatureGenerator...\n",
      "\tStage 3 Generators:\n",
      "\t\tFitting IdentityFeatureGenerator...\n",
      "\tStage 4 Generators:\n",
      "\t\tFitting DropUniqueFeatureGenerator...\n",
      "\tTypes of features in original data (raw dtype, special dtypes):\n",
      "\t\t('float', []) : 2 | ['BMI', 'DiabetesPedigreeFunction']\n",
      "\t\t('int', [])   : 6 | ['Pregnancies', 'Glucose', 'BloodPressure', 'SkinThickness', 'Insulin', ...]\n",
      "\tTypes of features in processed data (raw dtype, special dtypes):\n",
      "\t\t('float', []) : 2 | ['BMI', 'DiabetesPedigreeFunction']\n",
      "\t\t('int', [])   : 6 | ['Pregnancies', 'Glucose', 'BloodPressure', 'SkinThickness', 'Insulin', ...]\n",
      "\t0.0s = Fit runtime\n",
      "\t8 features in original data used to generate 8 features in processed data.\n",
      "\tTrain Data (Processed) Memory Usage: 0.03 MB (0.0% of available memory)\n",
      "Data preprocessing and feature engineering runtime = 0.07s ...\n",
      "AutoGluon will gauge predictive performance using evaluation metric: 'roc_auc'\n",
      "\tThis metric expects predicted probabilities rather than predicted class labels, so you'll need to use predict_proba() instead of predict()\n",
      "\tTo change this, specify the eval_metric parameter of Predictor()\n",
      "Fitting 7 L1 models ...\n",
      "Fitting model: LightGBMXT_BAG_L1 ... Training model for up to 599.93s of the 599.93s of remaining time.\n",
      "\tFitting 5 child models (S1F1 - S1F5) | Fitting with ParallelLocalFoldFittingStrategy\n",
      "\t0.8485\t = Validation score   (roc_auc)\n",
      "\t6.64s\t = Training   runtime\n",
      "\t0.03s\t = Validation runtime\n",
      "Fitting model: LightGBM_BAG_L1 ... Training model for up to 590.38s of the 590.38s of remaining time.\n",
      "\tFitting 5 child models (S1F1 - S1F5) | Fitting with ParallelLocalFoldFittingStrategy\n",
      "\t0.8406\t = Validation score   (roc_auc)\n",
      "\t6.71s\t = Training   runtime\n",
      "\t0.01s\t = Validation runtime\n",
      "Fitting model: CatBoost_BAG_L1 ... Training model for up to 580.53s of the 580.53s of remaining time.\n",
      "\tFitting 5 child models (S1F1 - S1F5) | Fitting with ParallelLocalFoldFittingStrategy\n",
      "\t0.844\t = Validation score   (roc_auc)\n",
      "\t8.65s\t = Training   runtime\n",
      "\t0.0s\t = Validation runtime\n",
      "Fitting model: NeuralNetFastAI_BAG_L1 ... Training model for up to 568.75s of the 568.75s of remaining time.\n",
      "\tFitting 5 child models (S1F1 - S1F5) | Fitting with ParallelLocalFoldFittingStrategy\n",
      "\t0.8142\t = Validation score   (roc_auc)\n",
      "\t16.44s\t = Training   runtime\n",
      "\t0.05s\t = Validation runtime\n",
      "Fitting model: XGBoost_BAG_L1 ... Training model for up to 549.28s of the 549.28s of remaining time.\n",
      "\tFitting 5 child models (S1F1 - S1F5) | Fitting with ParallelLocalFoldFittingStrategy\n",
      "\t0.8228\t = Validation score   (roc_auc)\n",
      "\t6.75s\t = Training   runtime\n",
      "\t0.03s\t = Validation runtime\n",
      "Fitting model: NeuralNetTorch_BAG_L1 ... Training model for up to 539.29s of the 539.28s of remaining time.\n",
      "\tFitting 5 child models (S1F1 - S1F5) | Fitting with ParallelLocalFoldFittingStrategy\n",
      "\t0.8253\t = Validation score   (roc_auc)\n",
      "\t15.69s\t = Training   runtime\n",
      "\t0.08s\t = Validation runtime\n",
      "Fitting model: LightGBMLarge_BAG_L1 ... Training model for up to 520.65s of the 520.64s of remaining time.\n",
      "\tFitting 5 child models (S1F1 - S1F5) | Fitting with ParallelLocalFoldFittingStrategy\n",
      "\t0.8183\t = Validation score   (roc_auc)\n",
      "\t7.73s\t = Training   runtime\n",
      "\t0.01s\t = Validation runtime\n",
      "Repeating k-fold bagging: 2/20\n",
      "Fitting model: LightGBMXT_BAG_L1 ... Training model for up to 509.69s of the 509.69s of remaining time.\n",
      "\tFitting 5 child models (S2F1 - S2F5) | Fitting with ParallelLocalFoldFittingStrategy\n",
      "\t0.8475\t = Validation score   (roc_auc)\n",
      "\t13.39s\t = Training   runtime\n",
      "\t0.04s\t = Validation runtime\n",
      "Fitting model: LightGBM_BAG_L1 ... Training model for up to 499.88s of the 499.88s of remaining time.\n",
      "\tFitting 5 child models (S2F1 - S2F5) | Fitting with ParallelLocalFoldFittingStrategy\n",
      "\t0.8363\t = Validation score   (roc_auc)\n",
      "\t13.72s\t = Training   runtime\n",
      "\t0.02s\t = Validation runtime\n",
      "Fitting model: CatBoost_BAG_L1 ... Training model for up to 489.86s of the 489.86s of remaining time.\n",
      "\tFitting 5 child models (S2F1 - S2F5) | Fitting with ParallelLocalFoldFittingStrategy\n",
      "\t0.8429\t = Validation score   (roc_auc)\n",
      "\t19.16s\t = Training   runtime\n",
      "\t0.01s\t = Validation runtime\n",
      "Fitting model: NeuralNetFastAI_BAG_L1 ... Training model for up to 476.32s of the 476.32s of remaining time.\n",
      "\tFitting 5 child models (S2F1 - S2F5) | Fitting with ParallelLocalFoldFittingStrategy\n",
      "\t0.8257\t = Validation score   (roc_auc)\n",
      "\t33.22s\t = Training   runtime\n",
      "\t0.11s\t = Validation runtime\n",
      "Fitting model: XGBoost_BAG_L1 ... Training model for up to 456.29s of the 456.29s of remaining time.\n",
      "\tFitting 5 child models (S2F1 - S2F5) | Fitting with ParallelLocalFoldFittingStrategy\n",
      "\t0.8321\t = Validation score   (roc_auc)\n",
      "\t13.26s\t = Training   runtime\n",
      "\t0.05s\t = Validation runtime\n",
      "Fitting model: NeuralNetTorch_BAG_L1 ... Training model for up to 446.5s of the 446.5s of remaining time.\n",
      "\tFitting 5 child models (S2F1 - S2F5) | Fitting with ParallelLocalFoldFittingStrategy\n",
      "\t0.8305\t = Validation score   (roc_auc)\n",
      "\t31.28s\t = Training   runtime\n",
      "\t0.15s\t = Validation runtime\n",
      "Fitting model: LightGBMLarge_BAG_L1 ... Training model for up to 427.65s of the 427.65s of remaining time.\n",
      "\tFitting 5 child models (S2F1 - S2F5) | Fitting with ParallelLocalFoldFittingStrategy\n",
      "\t0.8178\t = Validation score   (roc_auc)\n",
      "\t15.8s\t = Training   runtime\n",
      "\t0.02s\t = Validation runtime\n",
      "Repeating k-fold bagging: 3/20\n",
      "Fitting model: LightGBMXT_BAG_L1 ... Training model for up to 416.26s of the 416.26s of remaining time.\n",
      "\tFitting 5 child models (S3F1 - S3F5) | Fitting with ParallelLocalFoldFittingStrategy\n",
      "\t0.8489\t = Validation score   (roc_auc)\n",
      "\t20.17s\t = Training   runtime\n",
      "\t0.1s\t = Validation runtime\n",
      "Fitting model: LightGBM_BAG_L1 ... Training model for up to 406.39s of the 406.39s of remaining time.\n",
      "\tFitting 5 child models (S3F1 - S3F5) | Fitting with ParallelLocalFoldFittingStrategy\n",
      "\t0.8376\t = Validation score   (roc_auc)\n",
      "\t20.6s\t = Training   runtime\n",
      "\t0.03s\t = Validation runtime\n",
      "Fitting model: CatBoost_BAG_L1 ... Training model for up to 396.29s of the 396.29s of remaining time.\n",
      "\tFitting 5 child models (S3F1 - S3F5) | Fitting with ParallelLocalFoldFittingStrategy\n",
      "\t0.8436\t = Validation score   (roc_auc)\n",
      "\t28.09s\t = Training   runtime\n",
      "\t0.01s\t = Validation runtime\n",
      "Fitting model: NeuralNetFastAI_BAG_L1 ... Training model for up to 384.05s of the 384.04s of remaining time.\n",
      "\tFitting 5 child models (S3F1 - S3F5) | Fitting with ParallelLocalFoldFittingStrategy\n",
      "\t0.83\t = Validation score   (roc_auc)\n",
      "\t50.28s\t = Training   runtime\n",
      "\t0.16s\t = Validation runtime\n",
      "Fitting model: XGBoost_BAG_L1 ... Training model for up to 364.01s of the 364.0s of remaining time.\n",
      "\tFitting 5 child models (S3F1 - S3F5) | Fitting with ParallelLocalFoldFittingStrategy\n",
      "\t0.8347\t = Validation score   (roc_auc)\n",
      "\t19.66s\t = Training   runtime\n",
      "\t0.18s\t = Validation runtime\n",
      "Fitting model: NeuralNetTorch_BAG_L1 ... Training model for up to 353.96s of the 353.96s of remaining time.\n",
      "\tFitting 5 child models (S3F1 - S3F5) | Fitting with ParallelLocalFoldFittingStrategy\n",
      "\t0.8287\t = Validation score   (roc_auc)\n",
      "\t46.14s\t = Training   runtime\n",
      "\t0.25s\t = Validation runtime\n",
      "Fitting model: LightGBMLarge_BAG_L1 ... Training model for up to 336.07s of the 336.07s of remaining time.\n",
      "\tFitting 5 child models (S3F1 - S3F5) | Fitting with ParallelLocalFoldFittingStrategy\n",
      "\t0.8251\t = Validation score   (roc_auc)\n",
      "\t23.4s\t = Training   runtime\n",
      "\t0.04s\t = Validation runtime\n",
      "Repeating k-fold bagging: 4/20\n",
      "Fitting model: LightGBMXT_BAG_L1 ... Training model for up to 325.31s of the 325.31s of remaining time.\n",
      "\tFitting 5 child models (S4F1 - S4F5) | Fitting with ParallelLocalFoldFittingStrategy\n",
      "\t0.8481\t = Validation score   (roc_auc)\n",
      "\t26.9s\t = Training   runtime\n",
      "\t0.11s\t = Validation runtime\n",
      "Fitting model: LightGBM_BAG_L1 ... Training model for up to 315.47s of the 315.47s of remaining time.\n",
      "\tFitting 5 child models (S4F1 - S4F5) | Fitting with ParallelLocalFoldFittingStrategy\n",
      "\t0.8356\t = Validation score   (roc_auc)\n",
      "\t27.32s\t = Training   runtime\n",
      "\t0.04s\t = Validation runtime\n",
      "Fitting model: CatBoost_BAG_L1 ... Training model for up to 305.55s of the 305.55s of remaining time.\n",
      "\tFitting 5 child models (S4F1 - S4F5) | Fitting with ParallelLocalFoldFittingStrategy\n",
      "\t0.8417\t = Validation score   (roc_auc)\n",
      "\t36.98s\t = Training   runtime\n",
      "\t0.02s\t = Validation runtime\n",
      "Fitting model: NeuralNetFastAI_BAG_L1 ... Training model for up to 292.94s of the 292.94s of remaining time.\n",
      "\tFitting 5 child models (S4F1 - S4F5) | Fitting with ParallelLocalFoldFittingStrategy\n",
      "\t0.8288\t = Validation score   (roc_auc)\n",
      "\t66.8s\t = Training   runtime\n",
      "\t0.22s\t = Validation runtime\n",
      "Fitting model: XGBoost_BAG_L1 ... Training model for up to 273.38s of the 273.38s of remaining time.\n",
      "\tFitting 5 child models (S4F1 - S4F5) | Fitting with ParallelLocalFoldFittingStrategy\n",
      "\t0.8327\t = Validation score   (roc_auc)\n",
      "\t26.09s\t = Training   runtime\n",
      "\t0.2s\t = Validation runtime\n",
      "Fitting model: NeuralNetTorch_BAG_L1 ... Training model for up to 263.65s of the 263.64s of remaining time.\n",
      "\tFitting 5 child models (S4F1 - S4F5) | Fitting with ParallelLocalFoldFittingStrategy\n",
      "\t0.8267\t = Validation score   (roc_auc)\n",
      "\t61.69s\t = Training   runtime\n",
      "\t0.33s\t = Validation runtime\n",
      "Fitting model: LightGBMLarge_BAG_L1 ... Training model for up to 245.07s of the 245.07s of remaining time.\n",
      "\tFitting 5 child models (S4F1 - S4F5) | Fitting with ParallelLocalFoldFittingStrategy\n",
      "\t0.8236\t = Validation score   (roc_auc)\n",
      "\t31.05s\t = Training   runtime\n",
      "\t0.04s\t = Validation runtime\n",
      "Repeating k-fold bagging: 5/20\n",
      "Fitting model: LightGBMXT_BAG_L1 ... Training model for up to 233.44s of the 233.44s of remaining time.\n",
      "\tFitting 5 child models (S5F1 - S5F5) | Fitting with ParallelLocalFoldFittingStrategy\n",
      "\t0.8479\t = Validation score   (roc_auc)\n",
      "\t33.54s\t = Training   runtime\n",
      "\t0.12s\t = Validation runtime\n",
      "Fitting model: LightGBM_BAG_L1 ... Training model for up to 223.68s of the 223.67s of remaining time.\n",
      "\tFitting 5 child models (S5F1 - S5F5) | Fitting with ParallelLocalFoldFittingStrategy\n",
      "\t0.8339\t = Validation score   (roc_auc)\n",
      "\t34.19s\t = Training   runtime\n",
      "\t0.04s\t = Validation runtime\n",
      "Fitting model: CatBoost_BAG_L1 ... Training model for up to 213.7s of the 213.7s of remaining time.\n",
      "\tFitting 5 child models (S5F1 - S5F5) | Fitting with ParallelLocalFoldFittingStrategy\n",
      "\t0.8402\t = Validation score   (roc_auc)\n",
      "\t45.72s\t = Training   runtime\n",
      "\t0.02s\t = Validation runtime\n",
      "Fitting model: NeuralNetFastAI_BAG_L1 ... Training model for up to 201.84s of the 201.84s of remaining time.\n",
      "\tFitting 5 child models (S5F1 - S5F5) | Fitting with ParallelLocalFoldFittingStrategy\n",
      "\t0.83\t = Validation score   (roc_auc)\n",
      "\t84.23s\t = Training   runtime\n",
      "\t0.31s\t = Validation runtime\n",
      "Fitting model: XGBoost_BAG_L1 ... Training model for up to 181.32s of the 181.32s of remaining time.\n",
      "\tFitting 5 child models (S5F1 - S5F5) | Fitting with ParallelLocalFoldFittingStrategy\n",
      "\t0.8332\t = Validation score   (roc_auc)\n",
      "\t32.58s\t = Training   runtime\n",
      "\t0.22s\t = Validation runtime\n",
      "Fitting model: NeuralNetTorch_BAG_L1 ... Training model for up to 171.38s of the 171.38s of remaining time.\n",
      "\tFitting 5 child models (S5F1 - S5F5) | Fitting with ParallelLocalFoldFittingStrategy\n",
      "\t0.8293\t = Validation score   (roc_auc)\n",
      "\t77.34s\t = Training   runtime\n",
      "\t0.4s\t = Validation runtime\n",
      "Fitting model: LightGBMLarge_BAG_L1 ... Training model for up to 152.62s of the 152.62s of remaining time.\n",
      "\tFitting 5 child models (S5F1 - S5F5) | Fitting with ParallelLocalFoldFittingStrategy\n",
      "\t0.8247\t = Validation score   (roc_auc)\n",
      "\t38.95s\t = Training   runtime\n",
      "\t0.06s\t = Validation runtime\n",
      "Repeating k-fold bagging: 6/20\n",
      "Fitting model: LightGBMXT_BAG_L1 ... Training model for up to 141.35s of the 141.35s of remaining time.\n",
      "\tFitting 5 child models (S6F1 - S6F5) | Fitting with ParallelLocalFoldFittingStrategy\n",
      "\t0.849\t = Validation score   (roc_auc)\n",
      "\t40.42s\t = Training   runtime\n",
      "\t0.13s\t = Validation runtime\n",
      "Fitting model: LightGBM_BAG_L1 ... Training model for up to 131.42s of the 131.42s of remaining time.\n",
      "\tFitting 5 child models (S6F1 - S6F5) | Fitting with ParallelLocalFoldFittingStrategy\n",
      "\t0.8356\t = Validation score   (roc_auc)\n",
      "\t41.63s\t = Training   runtime\n",
      "\t0.05s\t = Validation runtime\n",
      "Fitting model: CatBoost_BAG_L1 ... Training model for up to 120.83s of the 120.83s of remaining time.\n",
      "\tFitting 5 child models (S6F1 - S6F5) | Fitting with ParallelLocalFoldFittingStrategy\n",
      "\t0.8413\t = Validation score   (roc_auc)\n",
      "\t54.61s\t = Training   runtime\n",
      "\t0.03s\t = Validation runtime\n",
      "Fitting model: NeuralNetFastAI_BAG_L1 ... Training model for up to 108.78s of the 108.77s of remaining time.\n",
      "\tFitting 5 child models (S6F1 - S6F5) | Fitting with ParallelLocalFoldFittingStrategy\n",
      "\t0.8311\t = Validation score   (roc_auc)\n",
      "\t100.76s\t = Training   runtime\n",
      "\t0.36s\t = Validation runtime\n",
      "Fitting model: XGBoost_BAG_L1 ... Training model for up to 89.18s of the 89.18s of remaining time.\n",
      "\tFitting 5 child models (S6F1 - S6F5) | Fitting with ParallelLocalFoldFittingStrategy\n",
      "\t0.8331\t = Validation score   (roc_auc)\n",
      "\t38.99s\t = Training   runtime\n",
      "\t0.24s\t = Validation runtime\n",
      "Fitting model: NeuralNetTorch_BAG_L1 ... Training model for up to 79.47s of the 79.47s of remaining time.\n",
      "\tFitting 5 child models (S6F1 - S6F5) | Fitting with ParallelLocalFoldFittingStrategy\n",
      "\t0.8304\t = Validation score   (roc_auc)\n",
      "\t93.87s\t = Training   runtime\n",
      "\t0.46s\t = Validation runtime\n",
      "Fitting model: LightGBMLarge_BAG_L1 ... Training model for up to 59.95s of the 59.95s of remaining time.\n",
      "\tFitting 5 child models (S6F1 - S6F5) | Fitting with ParallelLocalFoldFittingStrategy\n",
      "\t0.825\t = Validation score   (roc_auc)\n",
      "\t46.61s\t = Training   runtime\n",
      "\t0.07s\t = Validation runtime\n",
      "Completed 6/20 k-fold bagging repeats ...\n",
      "Fitting model: WeightedEnsemble_L2 ... Training model for up to 360.0s of the 49.07s of remaining time.\n",
      "\t0.8497\t = Validation score   (roc_auc)\n",
      "\t0.25s\t = Training   runtime\n",
      "\t0.0s\t = Validation runtime\n",
      "AutoGluon training complete, total runtime = 551.3s ... Best model: \"WeightedEnsemble_L2\"\n",
      "Deleting model LightGBM_BAG_L1. All files under AutogluonModels/ag-20230315_051304/models/LightGBM_BAG_L1/ will be removed.\n",
      "Deleting model CatBoost_BAG_L1. All files under AutogluonModels/ag-20230315_051304/models/CatBoost_BAG_L1/ will be removed.\n",
      "Deleting model XGBoost_BAG_L1. All files under AutogluonModels/ag-20230315_051304/models/XGBoost_BAG_L1/ will be removed.\n",
      "Deleting model LightGBMLarge_BAG_L1. All files under AutogluonModels/ag-20230315_051304/models/LightGBMLarge_BAG_L1/ will be removed.\n",
      "TabularPredictor saved. To load, use: predictor = TabularPredictor.load(\"AutogluonModels/ag-20230315_051304/\")\n"
     ]
    },
    {
     "name": "stdout",
     "output_type": "stream",
     "text": [
      "CPU times: user 6.28 s, sys: 956 ms, total: 7.24 s\n",
      "Wall time: 9min 12s\n"
     ]
    }
   ],
   "source": [
    "%%time\n",
    "\n",
    "predictor = TabularPredictor(label='Outcome', \n",
    "                             eval_metric='roc_auc',\n",
    "                             ).fit(train_data=train_s3_path,\n",
    "                                  time_limit=600,\n",
    "                                  presets=['best_quality', 'optimize_for_deployment'],\n",
    "                                  hyperparameters='very_light',\n",
    "                                  )"
   ]
  },
  {
   "cell_type": "markdown",
   "id": "5c5b2f17-268b-4969-97ee-cdc1f48f18d1",
   "metadata": {},
   "source": [
    "### Monitoring"
   ]
  },
  {
   "cell_type": "code",
   "execution_count": 45,
   "id": "f6df9fcc-0af8-41b9-8fee-b00bbde471a4",
   "metadata": {},
   "outputs": [
    {
     "name": "stdout",
     "output_type": "stream",
     "text": [
      "                    model  score_val  pred_time_val    fit_time  pred_time_val_marginal  fit_time_marginal  stack_level  can_infer  fit_order\n",
      "0     WeightedEnsemble_L2   0.849699       0.947987  235.299451                0.000524           0.249235            2       True          4\n",
      "1       LightGBMXT_BAG_L1   0.848956       0.128012   40.415414                0.128012          40.415414            1       True          1\n",
      "2  NeuralNetFastAI_BAG_L1   0.831127       0.355836  100.760741                0.355836         100.760741            1       True          2\n",
      "3   NeuralNetTorch_BAG_L1   0.830445       0.463615   93.874062                0.463615          93.874062            1       True          3\n"
     ]
    },
    {
     "data": {
      "text/html": [
       "<div>\n",
       "<style scoped>\n",
       "    .dataframe tbody tr th:only-of-type {\n",
       "        vertical-align: middle;\n",
       "    }\n",
       "\n",
       "    .dataframe tbody tr th {\n",
       "        vertical-align: top;\n",
       "    }\n",
       "\n",
       "    .dataframe thead th {\n",
       "        text-align: right;\n",
       "    }\n",
       "</style>\n",
       "<table border=\"1\" class=\"dataframe\">\n",
       "  <thead>\n",
       "    <tr style=\"text-align: right;\">\n",
       "      <th></th>\n",
       "      <th>model</th>\n",
       "      <th>score_val</th>\n",
       "      <th>pred_time_val</th>\n",
       "      <th>fit_time</th>\n",
       "      <th>pred_time_val_marginal</th>\n",
       "      <th>fit_time_marginal</th>\n",
       "      <th>stack_level</th>\n",
       "      <th>can_infer</th>\n",
       "      <th>fit_order</th>\n",
       "    </tr>\n",
       "  </thead>\n",
       "  <tbody>\n",
       "    <tr>\n",
       "      <th>0</th>\n",
       "      <td>WeightedEnsemble_L2</td>\n",
       "      <td>0.849699</td>\n",
       "      <td>0.947987</td>\n",
       "      <td>235.299451</td>\n",
       "      <td>0.000524</td>\n",
       "      <td>0.249235</td>\n",
       "      <td>2</td>\n",
       "      <td>True</td>\n",
       "      <td>4</td>\n",
       "    </tr>\n",
       "    <tr>\n",
       "      <th>1</th>\n",
       "      <td>LightGBMXT_BAG_L1</td>\n",
       "      <td>0.848956</td>\n",
       "      <td>0.128012</td>\n",
       "      <td>40.415414</td>\n",
       "      <td>0.128012</td>\n",
       "      <td>40.415414</td>\n",
       "      <td>1</td>\n",
       "      <td>True</td>\n",
       "      <td>1</td>\n",
       "    </tr>\n",
       "    <tr>\n",
       "      <th>2</th>\n",
       "      <td>NeuralNetFastAI_BAG_L1</td>\n",
       "      <td>0.831127</td>\n",
       "      <td>0.355836</td>\n",
       "      <td>100.760741</td>\n",
       "      <td>0.355836</td>\n",
       "      <td>100.760741</td>\n",
       "      <td>1</td>\n",
       "      <td>True</td>\n",
       "      <td>2</td>\n",
       "    </tr>\n",
       "    <tr>\n",
       "      <th>3</th>\n",
       "      <td>NeuralNetTorch_BAG_L1</td>\n",
       "      <td>0.830445</td>\n",
       "      <td>0.463615</td>\n",
       "      <td>93.874062</td>\n",
       "      <td>0.463615</td>\n",
       "      <td>93.874062</td>\n",
       "      <td>1</td>\n",
       "      <td>True</td>\n",
       "      <td>3</td>\n",
       "    </tr>\n",
       "  </tbody>\n",
       "</table>\n",
       "</div>"
      ],
      "text/plain": [
       "                    model  score_val  pred_time_val    fit_time  \\\n",
       "0     WeightedEnsemble_L2   0.849699       0.947987  235.299451   \n",
       "1       LightGBMXT_BAG_L1   0.848956       0.128012   40.415414   \n",
       "2  NeuralNetFastAI_BAG_L1   0.831127       0.355836  100.760741   \n",
       "3   NeuralNetTorch_BAG_L1   0.830445       0.463615   93.874062   \n",
       "\n",
       "   pred_time_val_marginal  fit_time_marginal  stack_level  can_infer  \\\n",
       "0                0.000524           0.249235            2       True   \n",
       "1                0.128012          40.415414            1       True   \n",
       "2                0.355836         100.760741            1       True   \n",
       "3                0.463615          93.874062            1       True   \n",
       "\n",
       "   fit_order  \n",
       "0          4  \n",
       "1          1  \n",
       "2          2  \n",
       "3          3  "
      ]
     },
     "execution_count": 45,
     "metadata": {},
     "output_type": "execute_result"
    }
   ],
   "source": [
    "predictor.leaderboard()"
   ]
  },
  {
   "cell_type": "code",
   "execution_count": 55,
   "id": "a7e81a85-433a-4fab-8eca-7f95005c1c05",
   "metadata": {
    "tags": []
   },
   "outputs": [
    {
     "data": {
      "text/plain": [
       "<AxesSubplot:xlabel='model'>"
      ]
     },
     "execution_count": 55,
     "metadata": {},
     "output_type": "execute_result"
    },
    {
     "data": {
      "image/png": "[encoded data removed]",
      "text/plain": [
       "<Figure size 432x288 with 1 Axes>"
      ]
     },
     "metadata": {
      "needs_background": "light"
     },
     "output_type": "display_data"
    }
   ],
   "source": [
    "predictor.leaderboard(silent=True).plot(kind=\"bar\", x=\"model\", y=\"score_val\")"
   ]
  },
  {
   "cell_type": "code",
   "execution_count": 46,
   "id": "e3f9fff7-1929-4294-a5f1-49c8632ebd98",
   "metadata": {},
   "outputs": [
    {
     "name": "stderr",
     "output_type": "stream",
     "text": [
      "Loaded data from: s3://sagemaker-us-east-1-495962688195/sagemaker/autogluon-tabular/data/test.csv | Columns = 9 / 9 | Rows = 230 -> 230\n"
     ]
    },
    {
     "data": {
      "text/plain": [
       "0    0\n",
       "1    1\n",
       "2    1\n",
       "3    1\n",
       "4    1\n",
       "Name: Outcome, dtype: int64"
      ]
     },
     "execution_count": 46,
     "metadata": {},
     "output_type": "execute_result"
    }
   ],
   "source": [
    "predictions = predictor.predict(test_s3_path)\n",
    "predictions.head()"
   ]
  },
  {
   "cell_type": "code",
   "execution_count": 47,
   "id": "b97d1d14-d859-481f-a0a3-e71e8bbcae88",
   "metadata": {},
   "outputs": [
    {
     "name": "stderr",
     "output_type": "stream",
     "text": [
      "Loaded data from: s3://sagemaker-us-east-1-495962688195/sagemaker/autogluon-tabular/data/test.csv | Columns = 9 / 9 | Rows = 230 -> 230\n"
     ]
    },
    {
     "data": {
      "text/html": [
       "<div>\n",
       "<style scoped>\n",
       "    .dataframe tbody tr th:only-of-type {\n",
       "        vertical-align: middle;\n",
       "    }\n",
       "\n",
       "    .dataframe tbody tr th {\n",
       "        vertical-align: top;\n",
       "    }\n",
       "\n",
       "    .dataframe thead th {\n",
       "        text-align: right;\n",
       "    }\n",
       "</style>\n",
       "<table border=\"1\" class=\"dataframe\">\n",
       "  <thead>\n",
       "    <tr style=\"text-align: right;\">\n",
       "      <th></th>\n",
       "      <th>0</th>\n",
       "      <th>1</th>\n",
       "    </tr>\n",
       "  </thead>\n",
       "  <tbody>\n",
       "    <tr>\n",
       "      <th>0</th>\n",
       "      <td>0.909209</td>\n",
       "      <td>0.090791</td>\n",
       "    </tr>\n",
       "    <tr>\n",
       "      <th>1</th>\n",
       "      <td>0.284950</td>\n",
       "      <td>0.715050</td>\n",
       "    </tr>\n",
       "    <tr>\n",
       "      <th>2</th>\n",
       "      <td>0.288398</td>\n",
       "      <td>0.711602</td>\n",
       "    </tr>\n",
       "    <tr>\n",
       "      <th>3</th>\n",
       "      <td>0.266683</td>\n",
       "      <td>0.733317</td>\n",
       "    </tr>\n",
       "    <tr>\n",
       "      <th>4</th>\n",
       "      <td>0.436233</td>\n",
       "      <td>0.563767</td>\n",
       "    </tr>\n",
       "    <tr>\n",
       "      <th>...</th>\n",
       "      <td>...</td>\n",
       "      <td>...</td>\n",
       "    </tr>\n",
       "    <tr>\n",
       "      <th>225</th>\n",
       "      <td>0.636808</td>\n",
       "      <td>0.363192</td>\n",
       "    </tr>\n",
       "    <tr>\n",
       "      <th>226</th>\n",
       "      <td>0.514149</td>\n",
       "      <td>0.485851</td>\n",
       "    </tr>\n",
       "    <tr>\n",
       "      <th>227</th>\n",
       "      <td>0.376166</td>\n",
       "      <td>0.623834</td>\n",
       "    </tr>\n",
       "    <tr>\n",
       "      <th>228</th>\n",
       "      <td>0.120273</td>\n",
       "      <td>0.879727</td>\n",
       "    </tr>\n",
       "    <tr>\n",
       "      <th>229</th>\n",
       "      <td>0.827849</td>\n",
       "      <td>0.172151</td>\n",
       "    </tr>\n",
       "  </tbody>\n",
       "</table>\n",
       "<p>230 rows × 2 columns</p>\n",
       "</div>"
      ],
      "text/plain": [
       "            0         1\n",
       "0    0.909209  0.090791\n",
       "1    0.284950  0.715050\n",
       "2    0.288398  0.711602\n",
       "3    0.266683  0.733317\n",
       "4    0.436233  0.563767\n",
       "..        ...       ...\n",
       "225  0.636808  0.363192\n",
       "226  0.514149  0.485851\n",
       "227  0.376166  0.623834\n",
       "228  0.120273  0.879727\n",
       "229  0.827849  0.172151\n",
       "\n",
       "[230 rows x 2 columns]"
      ]
     },
     "execution_count": 47,
     "metadata": {},
     "output_type": "execute_result"
    }
   ],
   "source": [
    "predictor.predict_proba(test_s3_path)"
   ]
  },
  {
   "cell_type": "markdown",
   "id": "48370077-49fe-4731-914e-0cb45f23aed8",
   "metadata": {},
   "source": [
    "### Trained models"
   ]
  },
  {
   "cell_type": "code",
   "execution_count": 48,
   "id": "4057f998-9023-452c-9908-c60117039992",
   "metadata": {},
   "outputs": [
    {
     "name": "stdout",
     "output_type": "stream",
     "text": [
      "*** Summary of fit() ***\n",
      "Estimated performance of each model:\n",
      "                    model  score_val  pred_time_val    fit_time  pred_time_val_marginal  fit_time_marginal  stack_level  can_infer  fit_order\n",
      "0     WeightedEnsemble_L2   0.849699       0.947987  235.299451                0.000524           0.249235            2       True          4\n",
      "1       LightGBMXT_BAG_L1   0.848956       0.128012   40.415414                0.128012          40.415414            1       True          1\n",
      "2  NeuralNetFastAI_BAG_L1   0.831127       0.355836  100.760741                0.355836         100.760741            1       True          2\n",
      "3   NeuralNetTorch_BAG_L1   0.830445       0.463615   93.874062                0.463615          93.874062            1       True          3\n",
      "Number of models trained: 4\n",
      "Types of models trained:\n",
      "{'WeightedEnsembleModel', 'StackerEnsembleModel_TabularNeuralNetTorch', 'StackerEnsembleModel_LGB', 'StackerEnsembleModel_NNFastAiTabular'}\n",
      "Bagging used: True  (with 5 folds)\n",
      "Multi-layer stack-ensembling used: False \n",
      "Feature Metadata (Processed):\n",
      "(raw dtype, special dtypes):\n",
      "('float', []) : 2 | ['BMI', 'DiabetesPedigreeFunction']\n",
      "('int', [])   : 6 | ['Pregnancies', 'Glucose', 'BloodPressure', 'SkinThickness', 'Insulin', ...]\n",
      "Plot summary of models saved to file: AutogluonModels/ag-20230315_051304/SummaryOfModels.html\n",
      "*** End of fit() summary ***\n"
     ]
    },
    {
     "data": {
      "text/plain": [
       "{'model_types': {'LightGBMXT_BAG_L1': 'StackerEnsembleModel_LGB',\n",
       "  'NeuralNetFastAI_BAG_L1': 'StackerEnsembleModel_NNFastAiTabular',\n",
       "  'NeuralNetTorch_BAG_L1': 'StackerEnsembleModel_TabularNeuralNetTorch',\n",
       "  'WeightedEnsemble_L2': 'WeightedEnsembleModel'},\n",
       " 'model_performance': {'LightGBMXT_BAG_L1': 0.8489562013917314,\n",
       "  'NeuralNetFastAI_BAG_L1': 0.8311274844226133,\n",
       "  'NeuralNetTorch_BAG_L1': 0.8304452631100195,\n",
       "  'WeightedEnsemble_L2': 0.8496990645987781},\n",
       " 'model_best': 'WeightedEnsemble_L2',\n",
       " 'model_paths': {'LightGBMXT_BAG_L1': 'AutogluonModels/ag-20230315_051304/models/LightGBMXT_BAG_L1/',\n",
       "  'NeuralNetFastAI_BAG_L1': 'AutogluonModels/ag-20230315_051304/models/NeuralNetFastAI_BAG_L1/',\n",
       "  'NeuralNetTorch_BAG_L1': 'AutogluonModels/ag-20230315_051304/models/NeuralNetTorch_BAG_L1/',\n",
       "  'WeightedEnsemble_L2': 'AutogluonModels/ag-20230315_051304/models/WeightedEnsemble_L2/'},\n",
       " 'model_fit_times': {'LightGBMXT_BAG_L1': 40.41541385650635,\n",
       "  'NeuralNetFastAI_BAG_L1': 100.7607409954071,\n",
       "  'NeuralNetTorch_BAG_L1': 93.87406158447266,\n",
       "  'WeightedEnsemble_L2': 0.24923467636108398},\n",
       " 'model_pred_times': {'LightGBMXT_BAG_L1': 0.12801170349121094,\n",
       "  'NeuralNetFastAI_BAG_L1': 0.3558363914489746,\n",
       "  'NeuralNetTorch_BAG_L1': 0.46361494064331055,\n",
       "  'WeightedEnsemble_L2': 0.0005242824554443359},\n",
       " 'num_bag_folds': 5,\n",
       " 'max_stack_level': 2,\n",
       " 'num_classes': 2,\n",
       " 'model_hyperparams': {'LightGBMXT_BAG_L1': {'use_orig_features': True,\n",
       "   'max_base_models': 25,\n",
       "   'max_base_models_per_type': 5,\n",
       "   'save_bag_folds': True},\n",
       "  'NeuralNetFastAI_BAG_L1': {'use_orig_features': True,\n",
       "   'max_base_models': 25,\n",
       "   'max_base_models_per_type': 5,\n",
       "   'save_bag_folds': True},\n",
       "  'NeuralNetTorch_BAG_L1': {'use_orig_features': True,\n",
       "   'max_base_models': 25,\n",
       "   'max_base_models_per_type': 5,\n",
       "   'save_bag_folds': True},\n",
       "  'WeightedEnsemble_L2': {'use_orig_features': False,\n",
       "   'max_base_models': 25,\n",
       "   'max_base_models_per_type': 5,\n",
       "   'save_bag_folds': True}},\n",
       " 'leaderboard':                     model  score_val  pred_time_val    fit_time  \\\n",
       " 0     WeightedEnsemble_L2   0.849699       0.947987  235.299451   \n",
       " 1       LightGBMXT_BAG_L1   0.848956       0.128012   40.415414   \n",
       " 2  NeuralNetFastAI_BAG_L1   0.831127       0.355836  100.760741   \n",
       " 3   NeuralNetTorch_BAG_L1   0.830445       0.463615   93.874062   \n",
       " \n",
       "    pred_time_val_marginal  fit_time_marginal  stack_level  can_infer  \\\n",
       " 0                0.000524           0.249235            2       True   \n",
       " 1                0.128012          40.415414            1       True   \n",
       " 2                0.355836         100.760741            1       True   \n",
       " 3                0.463615          93.874062            1       True   \n",
       " \n",
       "    fit_order  \n",
       " 0          4  \n",
       " 1          1  \n",
       " 2          2  \n",
       " 3          3  }"
      ]
     },
     "execution_count": 48,
     "metadata": {},
     "output_type": "execute_result"
    }
   ],
   "source": [
    "predictor.fit_summary(show_plot=True)"
   ]
  },
  {
   "cell_type": "markdown",
   "id": "5067cd1b-9232-41ba-af18-14c68b06dc0f",
   "metadata": {},
   "source": [
    "## Importance of each feature"
   ]
  },
  {
   "cell_type": "code",
   "execution_count": 49,
   "id": "b22f0efe-8fa4-4787-adba-09d46a159989",
   "metadata": {},
   "outputs": [
    {
     "name": "stderr",
     "output_type": "stream",
     "text": [
      "Loaded data from: s3://sagemaker-us-east-1-495962688195/sagemaker/autogluon-tabular/data/test.csv | Columns = 9 / 9 | Rows = 230 -> 230\n",
      "Computing feature importance via permutation shuffling for 8 features using 230 rows with 5 shuffle sets...\n",
      "\t44.08s\t= Expected runtime (8.82s per shuffle set)\n",
      "\t11.36s\t= Actual runtime (Completed 5 of 5 shuffle sets)\n"
     ]
    },
    {
     "data": {
      "text/html": [
       "<div>\n",
       "<style scoped>\n",
       "    .dataframe tbody tr th:only-of-type {\n",
       "        vertical-align: middle;\n",
       "    }\n",
       "\n",
       "    .dataframe tbody tr th {\n",
       "        vertical-align: top;\n",
       "    }\n",
       "\n",
       "    .dataframe thead th {\n",
       "        text-align: right;\n",
       "    }\n",
       "</style>\n",
       "<table border=\"1\" class=\"dataframe\">\n",
       "  <thead>\n",
       "    <tr style=\"text-align: right;\">\n",
       "      <th></th>\n",
       "      <th>importance</th>\n",
       "      <th>stddev</th>\n",
       "      <th>p_value</th>\n",
       "      <th>n</th>\n",
       "      <th>p99_high</th>\n",
       "      <th>p99_low</th>\n",
       "    </tr>\n",
       "  </thead>\n",
       "  <tbody>\n",
       "    <tr>\n",
       "      <th>Glucose</th>\n",
       "      <td>0.147188</td>\n",
       "      <td>0.030706</td>\n",
       "      <td>0.000215</td>\n",
       "      <td>5</td>\n",
       "      <td>0.210412</td>\n",
       "      <td>0.083963</td>\n",
       "    </tr>\n",
       "    <tr>\n",
       "      <th>BMI</th>\n",
       "      <td>0.049409</td>\n",
       "      <td>0.015868</td>\n",
       "      <td>0.001118</td>\n",
       "      <td>5</td>\n",
       "      <td>0.082080</td>\n",
       "      <td>0.016738</td>\n",
       "    </tr>\n",
       "    <tr>\n",
       "      <th>Age</th>\n",
       "      <td>0.022550</td>\n",
       "      <td>0.009039</td>\n",
       "      <td>0.002531</td>\n",
       "      <td>5</td>\n",
       "      <td>0.041161</td>\n",
       "      <td>0.003939</td>\n",
       "    </tr>\n",
       "    <tr>\n",
       "      <th>Insulin</th>\n",
       "      <td>0.007880</td>\n",
       "      <td>0.003649</td>\n",
       "      <td>0.004235</td>\n",
       "      <td>5</td>\n",
       "      <td>0.015394</td>\n",
       "      <td>0.000366</td>\n",
       "    </tr>\n",
       "    <tr>\n",
       "      <th>DiabetesPedigreeFunction</th>\n",
       "      <td>0.006706</td>\n",
       "      <td>0.008297</td>\n",
       "      <td>0.072490</td>\n",
       "      <td>5</td>\n",
       "      <td>0.023790</td>\n",
       "      <td>-0.010377</td>\n",
       "    </tr>\n",
       "    <tr>\n",
       "      <th>BloodPressure</th>\n",
       "      <td>0.001542</td>\n",
       "      <td>0.002284</td>\n",
       "      <td>0.102763</td>\n",
       "      <td>5</td>\n",
       "      <td>0.006245</td>\n",
       "      <td>-0.003160</td>\n",
       "    </tr>\n",
       "    <tr>\n",
       "      <th>Pregnancies</th>\n",
       "      <td>0.001392</td>\n",
       "      <td>0.008936</td>\n",
       "      <td>0.372610</td>\n",
       "      <td>5</td>\n",
       "      <td>0.019790</td>\n",
       "      <td>-0.017007</td>\n",
       "    </tr>\n",
       "    <tr>\n",
       "      <th>SkinThickness</th>\n",
       "      <td>-0.004778</td>\n",
       "      <td>0.002191</td>\n",
       "      <td>0.995911</td>\n",
       "      <td>5</td>\n",
       "      <td>-0.000267</td>\n",
       "      <td>-0.009289</td>\n",
       "    </tr>\n",
       "  </tbody>\n",
       "</table>\n",
       "</div>"
      ],
      "text/plain": [
       "                          importance    stddev   p_value  n  p99_high  \\\n",
       "Glucose                     0.147188  0.030706  0.000215  5  0.210412   \n",
       "BMI                         0.049409  0.015868  0.001118  5  0.082080   \n",
       "Age                         0.022550  0.009039  0.002531  5  0.041161   \n",
       "Insulin                     0.007880  0.003649  0.004235  5  0.015394   \n",
       "DiabetesPedigreeFunction    0.006706  0.008297  0.072490  5  0.023790   \n",
       "BloodPressure               0.001542  0.002284  0.102763  5  0.006245   \n",
       "Pregnancies                 0.001392  0.008936  0.372610  5  0.019790   \n",
       "SkinThickness              -0.004778  0.002191  0.995911  5 -0.000267   \n",
       "\n",
       "                           p99_low  \n",
       "Glucose                   0.083963  \n",
       "BMI                       0.016738  \n",
       "Age                       0.003939  \n",
       "Insulin                   0.000366  \n",
       "DiabetesPedigreeFunction -0.010377  \n",
       "BloodPressure            -0.003160  \n",
       "Pregnancies              -0.017007  \n",
       "SkinThickness            -0.009289  "
      ]
     },
     "execution_count": 49,
     "metadata": {},
     "output_type": "execute_result"
    }
   ],
   "source": [
    "predictor.feature_importance(test_s3_path)"
   ]
  },
  {
   "cell_type": "markdown",
   "id": "bb8a476a-2d43-4602-86c5-6653dcde177c",
   "metadata": {},
   "source": [
    "## Get a list of string names"
   ]
  },
  {
   "cell_type": "code",
   "execution_count": 50,
   "id": "26a9374c-1fb2-4bf8-b544-0ac5f2f3ebf9",
   "metadata": {},
   "outputs": [],
   "source": [
    "models = predictor.get_model_names()"
   ]
  },
  {
   "cell_type": "markdown",
   "id": "a8a2752c-a62f-4149-a198-8427b031b712",
   "metadata": {},
   "source": [
    "## Predict with the 2nd model"
   ]
  },
  {
   "cell_type": "code",
   "execution_count": 51,
   "id": "b5c1c86c-24eb-4d7a-a663-360768cc5183",
   "metadata": {
    "tags": []
   },
   "outputs": [
    {
     "name": "stderr",
     "output_type": "stream",
     "text": [
      "Loaded data from: s3://sagemaker-us-east-1-495962688195/sagemaker/autogluon-tabular/data/test.csv | Columns = 9 / 9 | Rows = 230 -> 230\n"
     ]
    },
    {
     "data": {
      "text/plain": [
       "0      0\n",
       "1      1\n",
       "2      1\n",
       "3      1\n",
       "4      1\n",
       "      ..\n",
       "225    1\n",
       "226    0\n",
       "227    1\n",
       "228    1\n",
       "229    0\n",
       "Name: Outcome, Length: 230, dtype: int64"
      ]
     },
     "execution_count": 51,
     "metadata": {},
     "output_type": "execute_result"
    }
   ],
   "source": [
    "predictor.predict(test_s3_path, model=models[1])"
   ]
  },
  {
   "cell_type": "code",
   "execution_count": 57,
   "id": "cd538108-f30a-400b-9076-8dfdbb848a2b",
   "metadata": {
    "tags": []
   },
   "outputs": [
    {
     "name": "stderr",
     "output_type": "stream",
     "text": [
      "Loaded data from: s3://sagemaker-us-east-1-495962688195/sagemaker/autogluon-tabular/data/test.csv | Columns = 9 / 9 | Rows = 230 -> 230\n",
      "Evaluation: roc_auc on test data: 0.8274792522424343\n",
      "Evaluations on test data:\n",
      "{\n",
      "    \"roc_auc\": 0.8274792522424343,\n",
      "    \"accuracy\": 0.7478260869565218,\n",
      "    \"balanced_accuracy\": 0.6872327940313522,\n",
      "    \"mcc\": 0.41186364034362855,\n",
      "    \"f1\": 0.5735294117647058,\n",
      "    \"precision\": 0.6842105263157895,\n",
      "    \"recall\": 0.4936708860759494\n",
      "}\n"
     ]
    }
   ],
   "source": [
    "performance = predictor.evaluate(test_s3_path, model=models[3])"
   ]
  },
  {
   "cell_type": "code",
   "execution_count": null,
   "id": "a3ffec03-1d9f-4a6a-9cb7-cfa219e001fc",
   "metadata": {},
   "outputs": [],
   "source": []
  }
 ],
 "metadata": {
  "availableInstances": [
   {
    "_defaultOrder": 0,
    "_isFastLaunch": true,
    "category": "General purpose",
    "gpuNum": 0,
    "memoryGiB": 4,
    "name": "ml.t3.medium",
    "vcpuNum": 2
   },
   {
    "_defaultOrder": 1,
    "_isFastLaunch": false,
    "category": "General purpose",
    "gpuNum": 0,
    "memoryGiB": 8,
    "name": "ml.t3.large",
    "vcpuNum": 2
   },
   {
    "_defaultOrder": 2,
    "_isFastLaunch": false,
    "category": "General purpose",
    "gpuNum": 0,
    "memoryGiB": 16,
    "name": "ml.t3.xlarge",
    "vcpuNum": 4
   },
   {
    "_defaultOrder": 3,
    "_isFastLaunch": false,
    "category": "General purpose",
    "gpuNum": 0,
    "memoryGiB": 32,
    "name": "ml.t3.2xlarge",
    "vcpuNum": 8
   },
   {
    "_defaultOrder": 4,
    "_isFastLaunch": true,
    "category": "General purpose",
    "gpuNum": 0,
    "memoryGiB": 8,
    "name": "ml.m5.large",
    "vcpuNum": 2
   },
   {
    "_defaultOrder": 5,
    "_isFastLaunch": false,
    "category": "General purpose",
    "gpuNum": 0,
    "memoryGiB": 16,
    "name": "ml.m5.xlarge",
    "vcpuNum": 4
   },
   {
    "_defaultOrder": 6,
    "_isFastLaunch": false,
    "category": "General purpose",
    "gpuNum": 0,
    "memoryGiB": 32,
    "name": "ml.m5.2xlarge",
    "vcpuNum": 8
   },
   {
    "_defaultOrder": 7,
    "_isFastLaunch": false,
    "category": "General purpose",
    "gpuNum": 0,
    "memoryGiB": 64,
    "name": "ml.m5.4xlarge",
    "vcpuNum": 16
   },
   {
    "_defaultOrder": 8,
    "_isFastLaunch": false,
    "category": "General purpose",
    "gpuNum": 0,
    "memoryGiB": 128,
    "name": "ml.m5.8xlarge",
    "vcpuNum": 32
   },
   {
    "_defaultOrder": 9,
    "_isFastLaunch": false,
    "category": "General purpose",
    "gpuNum": 0,
    "memoryGiB": 192,
    "name": "ml.m5.12xlarge",
    "vcpuNum": 48
   },
   {
    "_defaultOrder": 10,
    "_isFastLaunch": false,
    "category": "General purpose",
    "gpuNum": 0,
    "memoryGiB": 256,
    "name": "ml.m5.16xlarge",
    "vcpuNum": 64
   },
   {
    "_defaultOrder": 11,
    "_isFastLaunch": false,
    "category": "General purpose",
    "gpuNum": 0,
    "memoryGiB": 384,
    "name": "ml.m5.24xlarge",
    "vcpuNum": 96
   },
   {
    "_defaultOrder": 12,
    "_isFastLaunch": false,
    "category": "General purpose",
    "gpuNum": 0,
    "memoryGiB": 8,
    "name": "ml.m5d.large",
    "vcpuNum": 2
   },
   {
    "_defaultOrder": 13,
    "_isFastLaunch": false,
    "category": "General purpose",
    "gpuNum": 0,
    "memoryGiB": 16,
    "name": "ml.m5d.xlarge",
    "vcpuNum": 4
   },
   {
    "_defaultOrder": 14,
    "_isFastLaunch": false,
    "category": "General purpose",
    "gpuNum": 0,
    "memoryGiB": 32,
    "name": "ml.m5d.2xlarge",
    "vcpuNum": 8
   },
   {
    "_defaultOrder": 15,
    "_isFastLaunch": false,
    "category": "General purpose",
    "gpuNum": 0,
    "memoryGiB": 64,
    "name": "ml.m5d.4xlarge",
    "vcpuNum": 16
   },
   {
    "_defaultOrder": 16,
    "_isFastLaunch": false,
    "category": "General purpose",
    "gpuNum": 0,
    "memoryGiB": 128,
    "name": "ml.m5d.8xlarge",
    "vcpuNum": 32
   },
   {
    "_defaultOrder": 17,
    "_isFastLaunch": false,
    "category": "General purpose",
    "gpuNum": 0,
    "memoryGiB": 192,
    "name": "ml.m5d.12xlarge",
    "vcpuNum": 48
   },
   {
    "_defaultOrder": 18,
    "_isFastLaunch": false,
    "category": "General purpose",
    "gpuNum": 0,
    "memoryGiB": 256,
    "name": "ml.m5d.16xlarge",
    "vcpuNum": 64
   },
   {
    "_defaultOrder": 19,
    "_isFastLaunch": false,
    "category": "General purpose",
    "gpuNum": 0,
    "memoryGiB": 384,
    "name": "ml.m5d.24xlarge",
    "vcpuNum": 96
   },
   {
    "_defaultOrder": 20,
    "_isFastLaunch": true,
    "category": "Compute optimized",
    "gpuNum": 0,
    "memoryGiB": 4,
    "name": "ml.c5.large",
    "vcpuNum": 2
   },
   {
    "_defaultOrder": 21,
    "_isFastLaunch": false,
    "category": "Compute optimized",
    "gpuNum": 0,
    "memoryGiB": 8,
    "name": "ml.c5.xlarge",
    "vcpuNum": 4
   },
   {
    "_defaultOrder": 22,
    "_isFastLaunch": false,
    "category": "Compute optimized",
    "gpuNum": 0,
    "memoryGiB": 16,
    "name": "ml.c5.2xlarge",
    "vcpuNum": 8
   },
   {
    "_defaultOrder": 23,
    "_isFastLaunch": false,
    "category": "Compute optimized",
    "gpuNum": 0,
    "memoryGiB": 32,
    "name": "ml.c5.4xlarge",
    "vcpuNum": 16
   },
   {
    "_defaultOrder": 24,
    "_isFastLaunch": false,
    "category": "Compute optimized",
    "gpuNum": 0,
    "memoryGiB": 72,
    "name": "ml.c5.9xlarge",
    "vcpuNum": 36
   },
   {
    "_defaultOrder": 25,
    "_isFastLaunch": false,
    "category": "Compute optimized",
    "gpuNum": 0,
    "memoryGiB": 96,
    "name": "ml.c5.12xlarge",
    "vcpuNum": 48
   },
   {
    "_defaultOrder": 26,
    "_isFastLaunch": false,
    "category": "Compute optimized",
    "gpuNum": 0,
    "memoryGiB": 144,
    "name": "ml.c5.18xlarge",
    "vcpuNum": 72
   },
   {
    "_defaultOrder": 27,
    "_isFastLaunch": false,
    "category": "Compute optimized",
    "gpuNum": 0,
    "memoryGiB": 192,
    "name": "ml.c5.24xlarge",
    "vcpuNum": 96
   },
   {
    "_defaultOrder": 28,
    "_isFastLaunch": true,
    "category": "Accelerated computing",
    "gpuNum": 1,
    "memoryGiB": 16,
    "name": "ml.g4dn.xlarge",
    "vcpuNum": 4
   },
   {
    "_defaultOrder": 29,
    "_isFastLaunch": false,
    "category": "Accelerated computing",
    "gpuNum": 1,
    "memoryGiB": 32,
    "name": "ml.g4dn.2xlarge",
    "vcpuNum": 8
   },
   {
    "_defaultOrder": 30,
    "_isFastLaunch": false,
    "category": "Accelerated computing",
    "gpuNum": 1,
    "memoryGiB": 64,
    "name": "ml.g4dn.4xlarge",
    "vcpuNum": 16
   },
   {
    "_defaultOrder": 31,
    "_isFastLaunch": false,
    "category": "Accelerated computing",
    "gpuNum": 1,
    "memoryGiB": 128,
    "name": "ml.g4dn.8xlarge",
    "vcpuNum": 32
   },
   {
    "_defaultOrder": 32,
    "_isFastLaunch": false,
    "category": "Accelerated computing",
    "gpuNum": 4,
    "memoryGiB": 192,
    "name": "ml.g4dn.12xlarge",
    "vcpuNum": 48
   },
   {
    "_defaultOrder": 33,
    "_isFastLaunch": false,
    "category": "Accelerated computing",
    "gpuNum": 1,
    "memoryGiB": 256,
    "name": "ml.g4dn.16xlarge",
    "vcpuNum": 64
   },
   {
    "_defaultOrder": 34,
    "_isFastLaunch": false,
    "category": "Accelerated computing",
    "gpuNum": 1,
    "memoryGiB": 61,
    "name": "ml.p3.2xlarge",
    "vcpuNum": 8
   },
   {
    "_defaultOrder": 35,
    "_isFastLaunch": false,
    "category": "Accelerated computing",
    "gpuNum": 4,
    "memoryGiB": 244,
    "name": "ml.p3.8xlarge",
    "vcpuNum": 32
   },
   {
    "_defaultOrder": 36,
    "_isFastLaunch": false,
    "category": "Accelerated computing",
    "gpuNum": 8,
    "memoryGiB": 488,
    "name": "ml.p3.16xlarge",
    "vcpuNum": 64
   },
   {
    "_defaultOrder": 37,
    "_isFastLaunch": false,
    "category": "Accelerated computing",
    "gpuNum": 8,
    "memoryGiB": 768,
    "name": "ml.p3dn.24xlarge",
    "vcpuNum": 96
   },
   {
    "_defaultOrder": 38,
    "_isFastLaunch": false,
    "category": "Memory Optimized",
    "gpuNum": 0,
    "memoryGiB": 16,
    "name": "ml.r5.large",
    "vcpuNum": 2
   },
   {
    "_defaultOrder": 39,
    "_isFastLaunch": false,
    "category": "Memory Optimized",
    "gpuNum": 0,
    "memoryGiB": 32,
    "name": "ml.r5.xlarge",
    "vcpuNum": 4
   },
   {
    "_defaultOrder": 40,
    "_isFastLaunch": false,
    "category": "Memory Optimized",
    "gpuNum": 0,
    "memoryGiB": 64,
    "name": "ml.r5.2xlarge",
    "vcpuNum": 8
   },
   {
    "_defaultOrder": 41,
    "_isFastLaunch": false,
    "category": "Memory Optimized",
    "gpuNum": 0,
    "memoryGiB": 128,
    "name": "ml.r5.4xlarge",
    "vcpuNum": 16
   },
   {
    "_defaultOrder": 42,
    "_isFastLaunch": false,
    "category": "Memory Optimized",
    "gpuNum": 0,
    "memoryGiB": 256,
    "name": "ml.r5.8xlarge",
    "vcpuNum": 32
   },
   {
    "_defaultOrder": 43,
    "_isFastLaunch": false,
    "category": "Memory Optimized",
    "gpuNum": 0,
    "memoryGiB": 384,
    "name": "ml.r5.12xlarge",
    "vcpuNum": 48
   },
   {
    "_defaultOrder": 44,
    "_isFastLaunch": false,
    "category": "Memory Optimized",
    "gpuNum": 0,
    "memoryGiB": 512,
    "name": "ml.r5.16xlarge",
    "vcpuNum": 64
   },
   {
    "_defaultOrder": 45,
    "_isFastLaunch": false,
    "category": "Memory Optimized",
    "gpuNum": 0,
    "memoryGiB": 768,
    "name": "ml.r5.24xlarge",
    "vcpuNum": 96
   },
   {
    "_defaultOrder": 46,
    "_isFastLaunch": false,
    "category": "Accelerated computing",
    "gpuNum": 1,
    "memoryGiB": 16,
    "name": "ml.g5.xlarge",
    "vcpuNum": 4
   },
   {
    "_defaultOrder": 47,
    "_isFastLaunch": false,
    "category": "Accelerated computing",
    "gpuNum": 1,
    "memoryGiB": 32,
    "name": "ml.g5.2xlarge",
    "vcpuNum": 8
   },
   {
    "_defaultOrder": 48,
    "_isFastLaunch": false,
    "category": "Accelerated computing",
    "gpuNum": 1,
    "memoryGiB": 64,
    "name": "ml.g5.4xlarge",
    "vcpuNum": 16
   },
   {
    "_defaultOrder": 49,
    "_isFastLaunch": false,
    "category": "Accelerated computing",
    "gpuNum": 1,
    "memoryGiB": 128,
    "name": "ml.g5.8xlarge",
    "vcpuNum": 32
   },
   {
    "_defaultOrder": 50,
    "_isFastLaunch": false,
    "category": "Accelerated computing",
    "gpuNum": 1,
    "memoryGiB": 256,
    "name": "ml.g5.16xlarge",
    "vcpuNum": 64
   },
   {
    "_defaultOrder": 51,
    "_isFastLaunch": false,
    "category": "Accelerated computing",
    "gpuNum": 4,
    "memoryGiB": 192,
    "name": "ml.g5.12xlarge",
    "vcpuNum": 48
   },
   {
    "_defaultOrder": 52,
    "_isFastLaunch": false,
    "category": "Accelerated computing",
    "gpuNum": 4,
    "memoryGiB": 384,
    "name": "ml.g5.24xlarge",
    "vcpuNum": 96
   },
   {
    "_defaultOrder": 53,
    "_isFastLaunch": false,
    "category": "Accelerated computing",
    "gpuNum": 8,
    "memoryGiB": 768,
    "name": "ml.g5.48xlarge",
    "vcpuNum": 192
   }
  ],
  "instance_type": "ml.t3.medium",
  "kernelspec": {
   "display_name": "Python 3 (MXNet 1.9 Python 3.8 CPU Optimized)",
   "language": "python",
   "name": "python3__SAGEMAKER_INTERNAL__arn:aws:sagemaker:us-east-1:081325390199:image/mxnet-1.9-cpu-py38-ubuntu20.04-sagemaker-v1.0"
  },
  "language_info": {
   "codemirror_mode": {
    "name": "ipython",
    "version": 3
   },
   "file_extension": ".py",
   "mimetype": "text/x-python",
   "name": "python",
   "nbconvert_exporter": "python",
   "pygments_lexer": "ipython3",
   "version": "3.8.10"
  }
 },
 "nbformat": 4,
 "nbformat_minor": 5
}
